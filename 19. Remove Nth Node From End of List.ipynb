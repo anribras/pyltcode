{
 "cells": [
  {
   "cell_type": "markdown",
   "metadata": {},
   "source": [
    "```\n",
    "Given linked list: 1->2->3->4->5, and n = 2.\n",
    "\n",
    "After removing the second node from the end, the linked list becomes 1->2->3->5.\n",
    "```"
   ]
  },
  {
   "cell_type": "markdown",
   "metadata": {},
   "source": [
    "思路1  链表逆向 然后顺着 move\n",
    "\n",
    "思路2  先统计链表长度,然后计算顺的位置"
   ]
  },
  {
   "cell_type": "code",
   "execution_count": 1,
   "metadata": {},
   "outputs": [],
   "source": [
    "def dumpList(p):\n",
    "    while(p.next != None):\n",
    "        print('%d '%(p.val))\n",
    "        p = p.next\n",
    "    print('%d '%(p.val))\n",
    "    \n",
    "def getListLen(head):\n",
    "    l = 0\n",
    "    if head == None: return 0\n",
    "    p = head\n",
    "    while(p.next != None):\n",
    "        p = p.next\n",
    "        l +=1\n",
    "    return l+1\n",
    "\n",
    "class ListNode:\n",
    "    def __init__(self, x):\n",
    "        self.val = x\n",
    "        self.next = None\n",
    "\n",
    "class Solution:\n",
    "    def removeNthFromEnd(self, head, n):\n",
    "        \"\"\"\n",
    "        :type head: ListNode\n",
    "        :type n: int\n",
    "        :rtype: ListNode\n",
    "        \"\"\"\n",
    "        lens = getListLen(head)\n",
    "        dumpList(head)\n",
    "        print('lens=',lens)\n",
    "        # 5 - 2 = 3 0,1,2,3\n",
    "        pos = lens - n\n",
    "        p = head\n",
    "        if pos == 0: \n",
    "            head = head.next\n",
    "            return head\n",
    "        prev = None\n",
    "        while(pos) : \n",
    "            prev = p\n",
    "            p = p.next\n",
    "            pos -=1\n",
    "        prev.next = p.next\n",
    "        return head  "
   ]
  },
  {
   "cell_type": "code",
   "execution_count": 2,
   "metadata": {},
   "outputs": [
    {
     "name": "stdout",
     "output_type": "stream",
     "text": [
      "1 \n",
      "2 \n",
      "3 \n",
      "4 \n",
      "5 \n",
      "6 \n",
      "-----\n",
      "1 \n",
      "2 \n",
      "3 \n",
      "4 \n",
      "5 \n",
      "6 \n",
      "lens= 6\n",
      "1 \n",
      "2 \n",
      "3 \n",
      "4 \n",
      "5 \n"
     ]
    }
   ],
   "source": [
    "head  = p  = ListNode(1)\n",
    "for i in range(2,5+2):\n",
    "    p.next =  ListNode(i)\n",
    "    p = p.next\n",
    "dumpList(head)\n",
    "\n",
    "print('-----')\n",
    "    \n",
    "head = Solution().removeNthFromEnd(head,1)\n",
    "dumpList(head)"
   ]
  },
  {
   "cell_type": "code",
   "execution_count": null,
   "metadata": {},
   "outputs": [],
   "source": []
  }
 ],
 "metadata": {
  "kernelspec": {
   "display_name": "Python 3",
   "language": "python",
   "name": "python3"
  },
  "language_info": {
   "codemirror_mode": {
    "name": "ipython",
    "version": 3
   },
   "file_extension": ".py",
   "mimetype": "text/x-python",
   "name": "python",
   "nbconvert_exporter": "python",
   "pygments_lexer": "ipython3",
   "version": "3.6.5"
  }
 },
 "nbformat": 4,
 "nbformat_minor": 2
}
