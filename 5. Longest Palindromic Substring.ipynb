{
 "cells": [
  {
   "cell_type": "markdown",
   "metadata": {},
   "source": [
    "```\n",
    "Given a string s, find the longest palindromic substring in s. You may assume that the maximum length of s is 1000.\n",
    "\n",
    "Example 1:\n",
    "\n",
    "Input: \"babad\"\n",
    "Output: \"bab\"\n",
    "Note: \"aba\" is also a valid answer.\n",
    "Example 2:\n",
    "\n",
    "Input: \"cbbd\"\n",
    "Output: \"bb\"\n",
    "```"
   ]
  },
  {
   "cell_type": "code",
   "execution_count": 3,
   "metadata": {},
   "outputs": [],
   "source": [
    "a='abcdefgag'"
   ]
  },
  {
   "cell_type": "markdown",
   "metadata": {},
   "source": [
    "核心就是以两个元素为中心,还是以单个元素为中心,分两种情况考虑, \n",
    "但这两种不是互斥的,先判断第一种,要求再判断第二种.但是特别注意`aaaa`的情况,"
   ]
  },
  {
   "cell_type": "code",
   "execution_count": 4,
   "metadata": {},
   "outputs": [
    {
     "data": {
      "text/plain": [
       "'abcdefga'"
      ]
     },
     "execution_count": 4,
     "metadata": {},
     "output_type": "execute_result"
    }
   ],
   "source": [
    "a[:-1:]"
   ]
  },
  {
   "cell_type": "code",
   "execution_count": 5,
   "metadata": {},
   "outputs": [],
   "source": [
    "class Solution:\n",
    "    def longestPalindrome(self, s):\n",
    "        \"\"\"\n",
    "        :type s: str\n",
    "        :rtype: str\n",
    "        \"\"\"\n",
    "        l = len(s)\n",
    "        lens=1\n",
    "        for i,j in enumerate(s[:-1:]):\n",
    "        # same with right ? 中间夹2个, 然后往两边去\n",
    "            m=0\n",
    "            if j == s[i+1]:\n",
    "                print('i=',i)\n",
    "                while( i-m >=0 and i+m+1  <= l-1):\n",
    "                    if(s[i-m] == s[i+1+m] ):\n",
    "                        m+=1\n",
    "                    else:\n",
    "                        break\n",
    "                if 2*(m-1)+2 > lens:\n",
    "                    start = i-(m-1)\n",
    "                    end = i+1+(m-1)\n",
    "                    lens = 2*(m-1)+2\n",
    "            m=0\n",
    "            print('again i=',i)\n",
    "            while( i-m >=0 and i+m <= l-1):\n",
    "                if(s[i-m] == s[i+m] ):\n",
    "                    m+=1\n",
    "                else: \n",
    "                    break\n",
    "            if  (m-1)*2+1 > lens:\n",
    "                start = i-(m-1)\n",
    "                end = i+(m-1)\n",
    "                lens = (m-1)*2+1\n",
    "        return s[start:end+1]\n",
    "    \n"
   ]
  },
  {
   "cell_type": "code",
   "execution_count": 6,
   "metadata": {},
   "outputs": [
    {
     "name": "stdout",
     "output_type": "stream",
     "text": [
      "again i= 0\n",
      "again i= 1\n",
      "again i= 2\n",
      "again i= 3\n",
      "again i= 4\n",
      "again i= 5\n",
      "again i= 6\n",
      "again i= 7\n"
     ]
    },
    {
     "data": {
      "text/plain": [
       "'cdzdc'"
      ]
     },
     "execution_count": 6,
     "metadata": {},
     "output_type": "execute_result"
    }
   ],
   "source": [
    "Solution().longestPalindrome('abcdzdcab')"
   ]
  },
  {
   "cell_type": "code",
   "execution_count": 7,
   "metadata": {},
   "outputs": [
    {
     "name": "stdout",
     "output_type": "stream",
     "text": [
      "again i= 0\n",
      "again i= 1\n",
      "again i= 2\n",
      "i= 3\n",
      "again i= 3\n",
      "i= 4\n",
      "again i= 4\n",
      "again i= 5\n",
      "again i= 6\n",
      "again i= 7\n"
     ]
    },
    {
     "data": {
      "text/plain": [
       "'cdddc'"
      ]
     },
     "execution_count": 7,
     "metadata": {},
     "output_type": "execute_result"
    }
   ],
   "source": [
    "Solution().longestPalindrome('abcdddcab')"
   ]
  },
  {
   "cell_type": "code",
   "execution_count": 8,
   "metadata": {},
   "outputs": [
    {
     "name": "stdout",
     "output_type": "stream",
     "text": [
      "i= 0\n",
      "again i= 0\n",
      "again i= 1\n",
      "again i= 2\n",
      "again i= 3\n",
      "again i= 4\n",
      "again i= 5\n",
      "again i= 6\n",
      "again i= 7\n"
     ]
    },
    {
     "data": {
      "text/plain": [
       "'dcd'"
      ]
     },
     "execution_count": 8,
     "metadata": {},
     "output_type": "execute_result"
    }
   ],
   "source": [
    "Solution().longestPalindrome('ddcdefcab')"
   ]
  },
  {
   "cell_type": "code",
   "execution_count": 9,
   "metadata": {},
   "outputs": [
    {
     "name": "stdout",
     "output_type": "stream",
     "text": [
      "again i= 0\n",
      "again i= 1\n",
      "again i= 2\n",
      "again i= 3\n",
      "again i= 4\n",
      "again i= 5\n",
      "again i= 6\n",
      "again i= 7\n"
     ]
    },
    {
     "data": {
      "text/plain": [
       "'gag'"
      ]
     },
     "execution_count": 9,
     "metadata": {},
     "output_type": "execute_result"
    }
   ],
   "source": [
    "Solution().longestPalindrome('abcdefgag')"
   ]
  },
  {
   "cell_type": "code",
   "execution_count": 10,
   "metadata": {},
   "outputs": [
    {
     "name": "stdout",
     "output_type": "stream",
     "text": [
      "i= 0\n",
      "again i= 0\n",
      "i= 1\n",
      "again i= 1\n",
      "i= 2\n",
      "again i= 2\n"
     ]
    },
    {
     "data": {
      "text/plain": [
       "'aaaa'"
      ]
     },
     "execution_count": 10,
     "metadata": {},
     "output_type": "execute_result"
    }
   ],
   "source": [
    "Solution().longestPalindrome('aaaa')"
   ]
  },
  {
   "cell_type": "code",
   "execution_count": null,
   "metadata": {},
   "outputs": [],
   "source": []
  }
 ],
 "metadata": {
  "kernelspec": {
   "display_name": "Python 3",
   "language": "python",
   "name": "python3"
  },
  "language_info": {
   "codemirror_mode": {
    "name": "ipython",
    "version": 3
   },
   "file_extension": ".py",
   "mimetype": "text/x-python",
   "name": "python",
   "nbconvert_exporter": "python",
   "pygments_lexer": "ipython3",
   "version": "3.6.5"
  }
 },
 "nbformat": 4,
 "nbformat_minor": 2
}
