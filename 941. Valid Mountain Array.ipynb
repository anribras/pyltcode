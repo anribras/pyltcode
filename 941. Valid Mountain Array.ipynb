{
 "cells": [
  {
   "cell_type": "markdown",
   "metadata": {},
   "source": [
    "```\n",
    "Given an array A of integers, return true if and only if it is a valid mountain array.\n",
    "\n",
    "Recall that A is a mountain array if and only if:\n",
    "\n",
    "A.length >= 3\n",
    "There exists some i with 0 < i < A.length - 1 such that:\n",
    "A[0] < A[1] < ... A[i-1] < A[i]\n",
    "A[i] > A[i+1] > ... > A[B.length - 1]\n",
    " \n",
    "\n",
    "Example 1:\n",
    "\n",
    "Input: [2,1]\n",
    "Output: false\n",
    "Example 2:\n",
    "\n",
    "Input: [3,5,5]\n",
    "Output: false\n",
    "Example 3:\n",
    "\n",
    "Input: [0,3,2,1]\n",
    "Output: true\n",
    " \n",
    "\n",
    "Note:\n",
    "\n",
    "0 <= A.length <= 10000\n",
    "0 <= A[i] <= 10000 \n",
    "```"
   ]
  },
  {
   "cell_type": "markdown",
   "metadata": {},
   "source": [
    "```\n",
    "i左边递增 i 右边递减 而且不能相等\n",
    "\n",
    "遍历找到a[i] > a[i-1] and a[i] < a[i+1]的i;\n",
    "start 到i必须是递增序列\n",
    "i+1 到 end 必须是递减序列\n",
    "\n",
    "前面做过1个单调序列的题\n",
    "\n",
    "```"
   ]
  },
  {
   "cell_type": "code",
   "execution_count": 30,
   "metadata": {},
   "outputs": [],
   "source": [
    "def is_acsending(nums,i,j):\n",
    "    return all([ nums[k] < nums[k+1] for k in range(i,j-i+1)])\n",
    "def is_desending(nums,i,j):\n",
    "    return all([ nums[k] > nums[k+1] for k in range(i,j-i+1)])\n"
   ]
  },
  {
   "cell_type": "code",
   "execution_count": 75,
   "metadata": {},
   "outputs": [],
   "source": [
    "class Solution:\n",
    "    def validMountainArray(self, A):\n",
    "        def is_acsending(nums,i,j):\n",
    "            return all([ nums[k] < nums[k+1] for k in range(i,j)])\n",
    "        def is_desending(nums,i,j):\n",
    "            return all([ nums[k] > nums[k+1] for k in range(i,j)])\n",
    "        \"\"\"\n",
    "        :type A: List[int]\n",
    "        :rtype: bool\n",
    "        \"\"\"\n",
    "        l = len(A)\n",
    "        if l <= 2: \n",
    "            return False\n",
    "        i = 0\n",
    "        while(i < l-1):\n",
    "            if A[i] > A[i-1] and A[i] > A[i+1]: break\n",
    "            i+=1\n",
    "        if i==0 or i==l-1: return False\n",
    "        if is_acsending(A,0,i) and is_desending(A,i,l-1):\n",
    "            return True\n",
    "        else:\n",
    "            return False"
   ]
  },
  {
   "cell_type": "code",
   "execution_count": 76,
   "metadata": {},
   "outputs": [
    {
     "data": {
      "text/plain": [
       "False"
      ]
     },
     "execution_count": 76,
     "metadata": {},
     "output_type": "execute_result"
    }
   ],
   "source": [
    "Solution().validMountainArray([0,1,2,1,2])"
   ]
  },
  {
   "cell_type": "code",
   "execution_count": 77,
   "metadata": {},
   "outputs": [
    {
     "data": {
      "text/plain": [
       "True"
      ]
     },
     "execution_count": 77,
     "metadata": {},
     "output_type": "execute_result"
    }
   ],
   "source": [
    "Solution().validMountainArray([0,3,2,1])"
   ]
  }
 ],
 "metadata": {
  "kernelspec": {
   "display_name": "Python 3",
   "language": "python",
   "name": "python3"
  },
  "language_info": {
   "codemirror_mode": {
    "name": "ipython",
    "version": 3
   },
   "file_extension": ".py",
   "mimetype": "text/x-python",
   "name": "python",
   "nbconvert_exporter": "python",
   "pygments_lexer": "ipython3",
   "version": "3.6.5"
  },
  "toc": {
   "base_numbering": 1,
   "nav_menu": {},
   "number_sections": true,
   "sideBar": true,
   "skip_h1_title": false,
   "title_cell": "Table of Contents",
   "title_sidebar": "Contents",
   "toc_cell": false,
   "toc_position": {},
   "toc_section_display": true,
   "toc_window_display": false
  }
 },
 "nbformat": 4,
 "nbformat_minor": 2
}
