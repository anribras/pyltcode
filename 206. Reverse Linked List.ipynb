{
 "cells": [
  {
   "cell_type": "markdown",
   "metadata": {},
   "source": [
    "206. Reverse Linked List"
   ]
  },
  {
   "cell_type": "markdown",
   "metadata": {},
   "source": [
    "链表翻转，演练过很多遍了..\n",
    "\n",
    "cur tmp fwd三个指针，本子上画画就好，执行顺序记住就好.\n",
    "\n"
   ]
  },
  {
   "cell_type": "markdown",
   "metadata": {},
   "source": [
    "```c\n",
    "/**\n",
    " * Definition for singly-linked list.\n",
    " * struct ListNode {\n",
    " *     int val;\n",
    " *     ListNode *next;\n",
    " *     ListNode(int x) : val(x), next(NULL) {}\n",
    " * };\n",
    " */\n",
    "class Solution {\n",
    "public:\n",
    "    ListNode* reverseList(ListNode* head) {\n",
    "        \n",
    "        if(head == nullptr) return head;\n",
    "        \n",
    "        \n",
    "        ListNode* tmp;\n",
    "        ListNode* cur;\n",
    "        ListNode* fwd;\n",
    "        \n",
    "        cur = head;\n",
    "        tmp = cur->next;\n",
    "        head->next = nullptr;\n",
    "        \n",
    "        if(!tmp) return head;\n",
    "    \n",
    "        \n",
    "        \n",
    "        while(tmp->next) {\n",
    "            fwd = tmp->next;\n",
    "            tmp->next= cur;\n",
    "            cur = tmp;\n",
    "            tmp = fwd;      \n",
    "        }\n",
    "        \n",
    "        tmp->next=  cur;\n",
    "        \n",
    "        \n",
    "        \n",
    "        return tmp;\n",
    "        \n",
    "    }\n",
    "};\n",
    "```"
   ]
  },
  {
   "cell_type": "code",
   "execution_count": null,
   "metadata": {},
   "outputs": [],
   "source": []
  }
 ],
 "metadata": {
  "kernelspec": {
   "display_name": "Python 3",
   "language": "python",
   "name": "python3"
  },
  "language_info": {
   "codemirror_mode": {
    "name": "ipython",
    "version": 3
   },
   "file_extension": ".py",
   "mimetype": "text/x-python",
   "name": "python",
   "nbconvert_exporter": "python",
   "pygments_lexer": "ipython3",
   "version": "3.6.5"
  },
  "toc": {
   "base_numbering": 1,
   "nav_menu": {},
   "number_sections": true,
   "sideBar": true,
   "skip_h1_title": false,
   "title_cell": "Table of Contents",
   "title_sidebar": "Contents",
   "toc_cell": false,
   "toc_position": {},
   "toc_section_display": true,
   "toc_window_display": false
  }
 },
 "nbformat": 4,
 "nbformat_minor": 2
}
