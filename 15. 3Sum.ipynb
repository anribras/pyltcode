{
 "cells": [
  {
   "cell_type": "markdown",
   "metadata": {},
   "source": [
    "二分查找+ 遍历 N^2*LOG(N)"
   ]
  },
  {
   "cell_type": "code",
   "execution_count": 1,
   "metadata": {},
   "outputs": [],
   "source": [
    "def binary_search(start, end, nums,val):\n",
    "    mid = (start + end)//2 \n",
    "    if nums[mid] == val: return mid\n",
    "    if start >= end: return None\n",
    "    if nums[mid] > val and mid > start: return binary_search(start,mid-1,nums,val)\n",
    "    elif nums[mid] < val and mid < end: return binary_search(mid+1,end,nums,val)\n",
    "    \n",
    "class Solution:\n",
    "    def threeSum(self, nums):\n",
    "        \"\"\"\n",
    "        :type nums: List[int]\n",
    "        :rtype: List[List[int]]\n",
    "        \"\"\"    \n",
    "        lists = []\n",
    "        sets = []\n",
    "        nums.sort()\n",
    "        for i in range(0,len(nums)-1):\n",
    "            for j in range(i+1, len(nums)):    \n",
    "                pos = None\n",
    "                pos = binary_search(j+1,len(nums)-1,nums,-(nums[i] + nums[j]))\n",
    "                if pos  and pos not in [i,j]:\n",
    "                    items = [nums[i],nums[j],nums[pos]]\n",
    "                    if items not in lists:\n",
    "                        lists.append(items)\n",
    "        return lists"
   ]
  },
  {
   "cell_type": "code",
   "execution_count": 6,
   "metadata": {},
   "outputs": [
    {
     "name": "stdout",
     "output_type": "stream",
     "text": [
      "CPU times: user 2.99 ms, sys: 0 ns, total: 2.99 ms\n",
      "Wall time: 3.03 ms\n"
     ]
    },
    {
     "data": {
      "text/plain": [
       "[(-1, -1, 2), (0, -1, 1)]"
      ]
     },
     "execution_count": 6,
     "metadata": {},
     "output_type": "execute_result"
    }
   ],
   "source": [
    "nums = [-1,0,1,2,-1,-4]\n",
    "%time Solution().threeSum(nums)"
   ]
  },
  {
   "cell_type": "markdown",
   "metadata": {},
   "source": [
    "N^2*logN 系统都嫌太慢?,看下别人的答案..."
   ]
  },
  {
   "cell_type": "code",
   "execution_count": 4,
   "metadata": {},
   "outputs": [],
   "source": [
    "from collections import Counter\n",
    "class Solution:\n",
    "    def threeSum(self, nums):\n",
    "        nums.sort()\n",
    "        d=Counter(nums)\n",
    "        a, b =set(), set()\n",
    "        for k in nums:\n",
    "            d[k]-=1\n",
    "            for i in a:\n",
    "                if  d[-(k+i)]>0 :\n",
    "                    b.add((k,i,-(k+i)))\n",
    "            a.add(k)\n",
    "        return list(b) "
   ]
  },
  {
   "cell_type": "markdown",
   "metadata": {},
   "source": [
    "```\n",
    "Counter  dict中: 10 个0  9个8 8个-8 ...\n",
    "d[0] = 10, d[8] = 9 , d[-8] = 8\n",
    "遇到0, d[0] -=1 , d[0] = 9, \n",
    "0 放到set a中\n",
    "遇到 8 d[8] -= 1 d[8] = 7\n",
    "d[-8=-(0+8)] != 0? ,那么(8,0,-8)就是要找的元素对, \n",
    "```"
   ]
  },
  {
   "cell_type": "code",
   "execution_count": 5,
   "metadata": {},
   "outputs": [],
   "source": [
    "# 1 + 2 + 3 = target\n",
    "def threeSum(a,target):\n",
    "    sorted_a = sorted(a)\n",
    "    from collections import Counter\n",
    "    cd_a = Counter(a)\n",
    "    a,b = set(),set()\n",
    "    for item in sorted_a:\n",
    "        cd_a[item] -=1 \n",
    "        for i in a:\n",
    "            if cd_a[target-item-i] in sorted_a:\n",
    "                b.add( (item,i,target-item-i))\n",
    "            pass\n",
    "        a.add(item)\n",
    "    return list(b)"
   ]
  },
  {
   "cell_type": "code",
   "execution_count": 6,
   "metadata": {},
   "outputs": [
    {
     "data": {
      "text/plain": [
       "[(4, 3, 5)]"
      ]
     },
     "execution_count": 6,
     "metadata": {},
     "output_type": "execute_result"
    }
   ],
   "source": [
    "threeSum([1,2,3,4,5],12)"
   ]
  },
  {
   "cell_type": "code",
   "execution_count": null,
   "metadata": {},
   "outputs": [],
   "source": []
  }
 ],
 "metadata": {
  "kernelspec": {
   "display_name": "Python 3",
   "language": "python",
   "name": "python3"
  },
  "language_info": {
   "codemirror_mode": {
    "name": "ipython",
    "version": 3
   },
   "file_extension": ".py",
   "mimetype": "text/x-python",
   "name": "python",
   "nbconvert_exporter": "python",
   "pygments_lexer": "ipython3",
   "version": "3.6.5"
  },
  "toc": {
   "base_numbering": 1,
   "nav_menu": {},
   "number_sections": true,
   "sideBar": true,
   "skip_h1_title": false,
   "title_cell": "Table of Contents",
   "title_sidebar": "Contents",
   "toc_cell": false,
   "toc_position": {},
   "toc_section_display": true,
   "toc_window_display": false
  }
 },
 "nbformat": 4,
 "nbformat_minor": 2
}
