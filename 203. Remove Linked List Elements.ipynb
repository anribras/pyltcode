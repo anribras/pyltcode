{
 "cells": [
  {
   "cell_type": "markdown",
   "metadata": {},
   "source": [
    "203. Remove Linked List Elements"
   ]
  },
  {
   "cell_type": "markdown",
   "metadata": {},
   "source": [
    "```sh\n",
    "\n",
    "Remove all elements from a linked list of integers that have value val.\n",
    "\n",
    "Example:\n",
    "\n",
    "Input:  1->2->6->3->4->5->6, val = 6\n",
    "Output: 1->2->3->4->5\n",
    "\n",
    "```"
   ]
  },
  {
   "cell_type": "markdown",
   "metadata": {},
   "source": [
    "借鉴前面的删除node的做法,应该很简单:\n",
    "    "
   ]
  },
  {
   "cell_type": "code",
   "execution_count": 54,
   "metadata": {},
   "outputs": [],
   "source": [
    "# Definition for singly-linked list.\n",
    "class ListNode(object):\n",
    "    def __init__(self, x):\n",
    "        self.val = x\n",
    "        self.next = None\n",
    "\n",
    "class Solution(object):\n",
    "    def removeElements(self, head, val):\n",
    "        \"\"\"\n",
    "        :type head: ListNode\n",
    "        :type val: int\n",
    "        :rtype: ListNode\n",
    "        \"\"\"\n",
    "        tmp = head\n",
    "        prev = head\n",
    "        while(head and head.val==val):\n",
    "            head=head.next\n",
    "            \n",
    "        while(tmp):\n",
    "            if(tmp.val == val):\n",
    "                prev.next = tmp.next;\n",
    "            else:\n",
    "                prev = tmp\n",
    "            tmp = tmp.next\n",
    "            \n",
    "        return head\n",
    "                \n",
    "                    "
   ]
  },
  {
   "cell_type": "code",
   "execution_count": 55,
   "metadata": {},
   "outputs": [
    {
     "name": "stdout",
     "output_type": "stream",
     "text": [
      "1\n",
      "2\n",
      "3\n",
      "5\n"
     ]
    }
   ],
   "source": [
    "tmp=head = ListNode(1);\n",
    "tmp.next = ListNode(2);tmp=tmp.next;\n",
    "tmp.next = ListNode(3);tmp=tmp.next;\n",
    "tmp.next = ListNode(6);tmp=tmp.next;\n",
    "tmp.next = ListNode(5);tmp=tmp.next;\n",
    "tmp.next = ListNode(6);tmp=tmp.next;\n",
    "tmp.next = ListNode(6);tmp=tmp.next;\n",
    "result = Solution().removeElements(head,6)\n",
    "tmp=result\n",
    "while(tmp):\n",
    "    print(tmp.val)\n",
    "    tmp=tmp.next"
   ]
  },
  {
   "cell_type": "code",
   "execution_count": 56,
   "metadata": {},
   "outputs": [],
   "source": [
    "\n",
    "tmp=head = ListNode(1);\n",
    "tmp.next = ListNode(1);tmp=tmp.next;\n",
    "result = Solution().removeElements(head,1)\n",
    "tmp=result\n",
    "while(tmp):\n",
    "    print(tmp.val)\n",
    "    tmp=tmp.next"
   ]
  },
  {
   "cell_type": "code",
   "execution_count": 57,
   "metadata": {},
   "outputs": [
    {
     "name": "stdout",
     "output_type": "stream",
     "text": [
      "2\n"
     ]
    }
   ],
   "source": [
    "tmp=head = ListNode(1);\n",
    "tmp.next = ListNode(2);tmp=tmp.next;\n",
    "tmp.next = ListNode(1);tmp=tmp.next;\n",
    "tmp.next = ListNode(1);tmp=tmp.next;\n",
    "result = Solution().removeElements(head,1)\n",
    "tmp=result\n",
    "while(tmp):\n",
    "    print(tmp.val)\n",
    "    tmp=tmp.next"
   ]
  },
  {
   "cell_type": "markdown",
   "metadata": {},
   "source": [
    "c:\n",
    "```c\n",
    "/**\n",
    " * Definition for singly-linked list.\n",
    " * struct ListNode {\n",
    " *     int val;\n",
    " *     ListNode *next;\n",
    " *     ListNode(int x) : val(x), next(NULL) {}\n",
    " * };\n",
    " */\n",
    "class Solution {\n",
    "public:\n",
    "    ListNode* removeElements(ListNode* head, int val) {   \n",
    "        \n",
    "        ListNode* tmp = head;\n",
    "        ListNode* prev = tmp;\n",
    "        \n",
    "        while(head && head->val==val) {\n",
    "            head = head->next;\n",
    "        }\n",
    "        while(tmp) {\n",
    "            \n",
    "            if(tmp->val == val) { \n",
    "                prev->next = tmp->next;\n",
    "            } else {\n",
    "                prev = tmp;\n",
    "            }\n",
    "            tmp = tmp->next;      \n",
    "        }\n",
    "        \n",
    "        return head;\n",
    "    }\n",
    "};\n",
    "```"
   ]
  },
  {
   "cell_type": "code",
   "execution_count": null,
   "metadata": {},
   "outputs": [],
   "source": []
  }
 ],
 "metadata": {
  "kernelspec": {
   "display_name": "Python 3",
   "language": "python",
   "name": "python3"
  },
  "language_info": {
   "codemirror_mode": {
    "name": "ipython",
    "version": 3
   },
   "file_extension": ".py",
   "mimetype": "text/x-python",
   "name": "python",
   "nbconvert_exporter": "python",
   "pygments_lexer": "ipython3",
   "version": "3.6.5"
  },
  "toc": {
   "base_numbering": 1,
   "nav_menu": {},
   "number_sections": true,
   "sideBar": true,
   "skip_h1_title": false,
   "title_cell": "Table of Contents",
   "title_sidebar": "Contents",
   "toc_cell": false,
   "toc_position": {},
   "toc_section_display": true,
   "toc_window_display": false
  }
 },
 "nbformat": 4,
 "nbformat_minor": 2
}
