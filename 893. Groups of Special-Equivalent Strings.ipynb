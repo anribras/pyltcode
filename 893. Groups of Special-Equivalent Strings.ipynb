{
 "cells": [
  {
   "cell_type": "markdown",
   "metadata": {},
   "source": [
    "```\n",
    "You are given an array A of strings.\n",
    "\n",
    "Two strings S and T are special-equivalent if after any number of moves, S == T.\n",
    "\n",
    "A move consists of choosing two indices i and j with i % 2 == j % 2, and swapping S[i] with S[j].\n",
    "\n",
    "Now, a group of special-equivalent strings from A is a non-empty subset S of A such that any string not in S is not special-equivalent with any string in S.\n",
    "\n",
    "Return the number of groups of special-equivalent strings from A.\n",
    "\n",
    " \n",
    "\n",
    "Example 1:\n",
    "\n",
    "Input: [\"a\",\"b\",\"c\",\"a\",\"c\",\"c\"]\n",
    "Output: 3\n",
    "Explanation: 3 groups [\"a\",\"a\"], [\"b\"], [\"c\",\"c\",\"c\"]\n",
    "Example 2:\n",
    "\n",
    "Input: [\"aa\",\"bb\",\"ab\",\"ba\"]\n",
    "Output: 4\n",
    "Explanation: 4 groups [\"aa\"], [\"bb\"], [\"ab\"], [\"ba\"]\n",
    "Example 3:\n",
    "\n",
    "Input: [\"abc\",\"acb\",\"bac\",\"bca\",\"cab\",\"cba\"]\n",
    "Output: 3\n",
    "Explanation: 3 groups [\"abc\",\"cba\"], [\"acb\",\"bca\"], [\"bac\",\"cab\"]\n",
    "Example 4:\n",
    "\n",
    "Input: [\"abcd\",\"cdab\",\"adcb\",\"cbad\"]\n",
    "Output: 1\n",
    "Explanation: 1 group [\"abcd\",\"cdab\",\"adcb\",\"cbad\"]\n",
    "\n",
    "Note:\n",
    "\n",
    "1 <= A.length <= 1000\n",
    "1 <= A[i].length <= 20\n",
    "All A[i] have the same length.\n",
    "All A[i] consist of only lowercase letters.\n",
    "\n",
    "```"
   ]
  },
  {
   "cell_type": "markdown",
   "metadata": {},
   "source": [
    "```\n",
    "思路:\n",
    "    <=2 时 set的个数就是group数\n",
    "    >2 时 奇数位置的元素 和偶数的 分别构成set 如果 都相等 ，那么这两个S是一个group的 并构成1个pattern:\n",
    "        思路是对的，奇数1个set,偶数1个set,排序后相加作为1个pattern放入另外1个set, 统计最后的set的长度即得到多少个group\n",
    "```"
   ]
  },
  {
   "cell_type": "code",
   "execution_count": 1,
   "metadata": {},
   "outputs": [],
   "source": [
    "    L = set()\n",
    "\n",
    "    for a in A:\n",
    "        c, s1, s2 = 0, set(), set()\n",
    "        for i in a:\n",
    "            if c % 2 == 0: s1.add(i)\n",
    "            else: s2.add(i)\n",
    "            c += 1\n",
    "        L.add(str(sorted(s1))+str(sorted(s2)))\n",
    "    return len(L)\n",
    "        \n"
   ]
  },
  {
   "cell_type": "code",
   "execution_count": null,
   "metadata": {},
   "outputs": [],
   "source": []
  }
 ],
 "metadata": {
  "kernelspec": {
   "display_name": "Python 3",
   "language": "python",
   "name": "python3"
  },
  "language_info": {
   "codemirror_mode": {
    "name": "ipython",
    "version": 3
   },
   "file_extension": ".py",
   "mimetype": "text/x-python",
   "name": "python",
   "nbconvert_exporter": "python",
   "pygments_lexer": "ipython3",
   "version": "3.6.5"
  }
 },
 "nbformat": 4,
 "nbformat_minor": 2
}
