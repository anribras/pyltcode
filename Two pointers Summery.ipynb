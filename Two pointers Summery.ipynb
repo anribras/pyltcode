{
 "cells": [
  {
   "cell_type": "markdown",
   "metadata": {},
   "source": [
    "目前遇到的可解决的问题:\n",
    "    \n",
    "```\n",
    "1. 去掉array里的重复元素,并keep原来元素的排序,注意...可以修改原array\n",
    "\n",
    "[1,2,2,3,2,1,4] , 2 ----> [1,3,1,4]\n",
    "\n",
    "        \n",
    "\n",
    "2. 去掉所有的重复元素,并keep原来元素的排序\n",
    "\n",
    "[1,1,2,2,3,3,3 ] ----> [1,2,3]\n",
    "\n",
    "    i扫描数组,j记录从头开始记录与自己不同的元素即可\n",
    "    j = 0\n",
    "    for i in range(0,len(nums)):\n",
    "        if nums[i] != nums[j]:\n",
    "            nums[j] = nums[i]\n",
    "            j += 1\n",
    "    return j\n",
    "    \n",
    "\n",
    "3. Two Sum , target\n",
    "\n",
    "[2,5,7,8,10], 9 ---> index[0,1]\n",
    "    排序数组, 一头一尾 看sum和target的大小,大的话tail往前,小的话head往后\n",
    "\n",
    "4. 链表找循环 ? \n",
    "    一块一慢 指针总会遇m到,\n",
    "    注意如果要求位置还有些技巧. 遇到的点不一定是循环的结点,但是slow=head ,slow和fast同步走,fast==slow时,slow就是循环结点的位置\n",
    "    \n",
    "5. 找到链表中倒数第三个元素?\n",
    "\n",
    "    fisrt 先走3步, 然后 second = head 当first=tail的时候, second指向倒数第3个\n",
    "    \n",
    "283. Move Zeroes\n",
    "    [0,1,2,0,3,12,0] -- > [1,2,3,12,0,0]\n",
    "    思路,把0和后面不是0的交换,类似冒泡法.\n",
    "    class Solution:\n",
    "    def moveZeroes(self, nums):\n",
    "        \"\"\"\n",
    "        :type nums: List[int]\n",
    "        :rtype: void Do not return anything, modify nums in-place instead.\n",
    "        \"\"\"\n",
    "        i = 0\n",
    "        end = len(nums)\n",
    "        j = 0\n",
    "        while(i < end):\n",
    "            if nums[i] == 0:\n",
    "                j = i+1\n",
    "                while(j < end and nums[j] is 0):\n",
    "                    j+=1\n",
    "                if j == end: \n",
    "                    break\n",
    "                else:\n",
    "                    nums[i],nums[j] = nums[j],nums[i]   \n",
    "            i+=1\n",
    "        return nums \n",
    "```"
   ]
  },
  {
   "cell_type": "markdown",
   "metadata": {},
   "source": []
  },
  {
   "cell_type": "code",
   "execution_count": null,
   "metadata": {},
   "outputs": [],
   "source": []
  }
 ],
 "metadata": {
  "kernelspec": {
   "display_name": "Python 3",
   "language": "python",
   "name": "python3"
  },
  "language_info": {
   "codemirror_mode": {
    "name": "ipython",
    "version": 3
   },
   "file_extension": ".py",
   "mimetype": "text/x-python",
   "name": "python",
   "nbconvert_exporter": "python",
   "pygments_lexer": "ipython3",
   "version": "3.6.5"
  },
  "toc": {
   "base_numbering": 1,
   "nav_menu": {},
   "number_sections": true,
   "sideBar": true,
   "skip_h1_title": false,
   "title_cell": "Table of Contents",
   "title_sidebar": "Contents",
   "toc_cell": false,
   "toc_position": {},
   "toc_section_display": true,
   "toc_window_display": false
  }
 },
 "nbformat": 4,
 "nbformat_minor": 2
}
