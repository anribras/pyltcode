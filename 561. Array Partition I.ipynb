{
 "cells": [
  {
   "cell_type": "markdown",
   "metadata": {},
   "source": [
    "```\n",
    "Given an array of 2n integers, your task is to group these integers into n pairs of integer, say (a1, b1), (a2, b2), ..., (an, bn) which makes sum of min(ai, bi) for all i from 1 to n as large as possible.\n",
    "\n",
    "Example 1:\n",
    "Input: [1,4,3,2]\n",
    "\n",
    "Output: 4\n",
    "Explanation: n is 2, and the maximum sum of pairs is 4 = min(1, 2) + min(3, 4).\n",
    "Note:\n",
    "n is a positive integer, which is in the range of [1, 10000].\n",
    "All the integers in the array will be in the range of [-10000, 10000].\n",
    "```"
   ]
  },
  {
   "cell_type": "markdown",
   "metadata": {},
   "source": [
    "最小值 希望大一点, 每个pair,尽量把最小的放在前面的pair里,后面的pair的最小值会越来越大."
   ]
  },
  {
   "cell_type": "code",
   "execution_count": 1,
   "metadata": {},
   "outputs": [
    {
     "data": {
      "text/plain": [
       "[1, 3]"
      ]
     },
     "execution_count": 1,
     "metadata": {},
     "output_type": "execute_result"
    }
   ],
   "source": [
    "a=[1,2,3,4]\n",
    "a[::2]"
   ]
  },
  {
   "cell_type": "code",
   "execution_count": 2,
   "metadata": {},
   "outputs": [],
   "source": [
    "class Solution:\n",
    "    def sortArrayByParityII(self, A):\n",
    "        \"\"\"\n",
    "        :type A: List[int]\n",
    "        :rtype: List[int]\n",
    "        \"\"\"\n",
    "        B=A[:]\n",
    "        even=0\n",
    "        odd=1\n",
    "        for i in range(0,len(A)):\n",
    "            if A[i] & 1: \n",
    "                B[odd] = A[i]\n",
    "                odd+=2\n",
    "            else:\n",
    "                B[even] = A[i]\n",
    "                even+=2\n",
    "        return B"
   ]
  },
  {
   "cell_type": "code",
   "execution_count": null,
   "metadata": {},
   "outputs": [],
   "source": []
  }
 ],
 "metadata": {
  "kernelspec": {
   "display_name": "Python 3",
   "language": "python",
   "name": "python3"
  },
  "language_info": {
   "codemirror_mode": {
    "name": "ipython",
    "version": 3
   },
   "file_extension": ".py",
   "mimetype": "text/x-python",
   "name": "python",
   "nbconvert_exporter": "python",
   "pygments_lexer": "ipython3",
   "version": "3.6.5"
  }
 },
 "nbformat": 4,
 "nbformat_minor": 2
}
