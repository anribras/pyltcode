{
 "cells": [
  {
   "cell_type": "markdown",
   "metadata": {},
   "source": [
    "```\n",
    "In MATLAB, there is a very useful function called 'reshape', which can reshape a matrix into a new one with different size but keep its original data.\n",
    "\n",
    "You're given a matrix represented by a two-dimensional array, and two positive integers r and c representing the row number and column number of the wanted reshaped matrix, respectively.\n",
    "\n",
    "The reshaped matrix need to be filled with all the elements of the original matrix in the same row-traversing order as they were.\n",
    "\n",
    "If the 'reshape' operation with given parameters is possible and legal, output the new reshaped matrix; Otherwise, output the original matrix.\n",
    "\n",
    "Example 1:\n",
    "Input: \n",
    "nums = \n",
    "[[1,2],\n",
    " [3,4]]\n",
    "r = 1, c = 4\n",
    "Output: \n",
    "[[1,2,3,4]]\n",
    "Explanation:\n",
    "The row-traversing of nums is [1,2,3,4]. The new reshaped matrix is a 1 * 4 matrix, fill it row by row by using the previous list.\n",
    "Example 2:\n",
    "Input: \n",
    "nums = \n",
    "[[1,2],\n",
    " [3,4]]\n",
    "r = 2, c = 4\n",
    "Output: \n",
    "[[1,2],\n",
    " [3,4]]\n",
    "Explanation:\n",
    "There is no way to reshape a 2 * 2 matrix to a 2 * 4 matrix. So output the original matrix.\n",
    "Note:\n",
    "The height and width of the given matrix is in range [1, 100].\n",
    "The given r and c are all positive.\n",
    "```"
   ]
  },
  {
   "cell_type": "code",
   "execution_count": 1,
   "metadata": {},
   "outputs": [],
   "source": [
    "class Solution:\n",
    "    def matrixReshape(self, nums, r, c):\n",
    "        \"\"\"\n",
    "        :type nums: List[List[int]]\n",
    "        :type r: int\n",
    "        :type c: int\n",
    "        :rtype: List[List[int]]\n",
    "        \"\"\"\n",
    "        _r = len(nums)\n",
    "        _c = len(nums[0])\n",
    "        \n",
    "        print(_r,_c,r,c)\n",
    "        if _r *_c != r * c : return nums\n",
    "        \n",
    "        \n",
    "        A =[]\n",
    "        for n in nums:\n",
    "            A += n\n",
    "        B=[]\n",
    "        for i in range(0,r):\n",
    "            B.append([])\n",
    "            B[i] = A[i*c:(i+1)*c]\n",
    "        return B"
   ]
  },
  {
   "cell_type": "code",
   "execution_count": null,
   "metadata": {},
   "outputs": [],
   "source": []
  }
 ],
 "metadata": {
  "kernelspec": {
   "display_name": "Python 3",
   "language": "python",
   "name": "python3"
  },
  "language_info": {
   "codemirror_mode": {
    "name": "ipython",
    "version": 3
   },
   "file_extension": ".py",
   "mimetype": "text/x-python",
   "name": "python",
   "nbconvert_exporter": "python",
   "pygments_lexer": "ipython3",
   "version": "3.6.5"
  }
 },
 "nbformat": 4,
 "nbformat_minor": 2
}
