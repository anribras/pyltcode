{
 "cells": [
  {
   "cell_type": "markdown",
   "metadata": {},
   "source": [
    "```\n",
    "Given a group of two strings, you need to find the longest uncommon subsequence of this group of two strings. The longest uncommon subsequence is defined as the longest subsequence of one of these strings and this subsequence should not be any subsequence of the other strings.\n",
    "\n",
    "A subsequence is a sequence that can be derived from one sequence by deleting some characters without changing the order of the remaining elements. Trivially, any string is a subsequence of itself and an empty string is a subsequence of any string.\n",
    "\n",
    "The input will be two strings, and the output needs to be the length of the longest uncommon subsequence. If the longest uncommon subsequence doesn't exist, return -1.\n",
    "\n",
    "Example 1:\n",
    "Input: \"aba\", \"cdc\"\n",
    "Output: 3\n",
    "Explanation: The longest uncommon subsequence is \"aba\" (or \"cdc\"), \n",
    "because \"aba\" is a subsequence of \"aba\", \n",
    "but not a subsequence of any other strings in the group of two strings. \n",
    "Note:\n",
    "\n",
    "Both strings' lengths will not exceed 100.\n",
    "Only letters from a ~ z will appear in input strings.\n",
    "```"
   ]
  },
  {
   "cell_type": "markdown",
   "metadata": {},
   "source": [
    "```\n",
    "求2个序列的最长不重复子串\n",
    "```"
   ]
  },
  {
   "cell_type": "markdown",
   "metadata": {},
   "source": [
    "2个序列都有n个子序列 难道一一比较,\n",
    "```\n",
    "看不重复的最长的是哪个?\n",
    "遍历时从最长的开始,那就快了!\n",
    "```"
   ]
  },
  {
   "cell_type": "code",
   "execution_count": 31,
   "metadata": {},
   "outputs": [
    {
     "data": {
      "text/plain": [
       "[10, 9, 8, 7, 6, 5, 4, 3, 2, 1, 0]"
      ]
     },
     "execution_count": 31,
     "metadata": {},
     "output_type": "execute_result"
    }
   ],
   "source": [
    "[i for i in range(10,-1,-1)]"
   ]
  },
  {
   "cell_type": "code",
   "execution_count": 27,
   "metadata": {},
   "outputs": [],
   "source": [
    "class Solution:\n",
    "    def findLUSlength(self, a, b):\n",
    "        \"\"\"\n",
    "        :type a: str\n",
    "        :type b: str\n",
    "        :rtype: int\n",
    "        \"\"\"\n",
    "        la = len(a)\n",
    "        lb = len(b)\n",
    "        if a is None and b: return la\n",
    "        if b is None and a: return lb\n",
    "        \n",
    "        def a_match_b(a,b):\n",
    "            l = len(a)\n",
    "            maxs = -1\n",
    "            for i in range(0,l):\n",
    "                for j in range(l-1,i-1,-1):\n",
    "                    if a[i:j+1] not in b:\n",
    "                        maxs = max(maxs, j-i+1)\n",
    "            return maxs\n",
    "        return a_match_b(a,b) if la > lb else a_match_b(b,a)\n",
    "\n",
    "        "
   ]
  },
  {
   "cell_type": "code",
   "execution_count": 28,
   "metadata": {},
   "outputs": [
    {
     "data": {
      "text/plain": [
       "4"
      ]
     },
     "execution_count": 28,
     "metadata": {},
     "output_type": "execute_result"
    }
   ],
   "source": [
    "Solution().findLUSlength('abcd','ab')"
   ]
  },
  {
   "cell_type": "code",
   "execution_count": 29,
   "metadata": {},
   "outputs": [
    {
     "data": {
      "text/plain": [
       "-1"
      ]
     },
     "execution_count": 29,
     "metadata": {},
     "output_type": "execute_result"
    }
   ],
   "source": [
    "Solution().findLUSlength('','')"
   ]
  },
  {
   "cell_type": "code",
   "execution_count": 30,
   "metadata": {},
   "outputs": [
    {
     "data": {
      "text/plain": [
       "1"
      ]
     },
     "execution_count": 30,
     "metadata": {},
     "output_type": "execute_result"
    }
   ],
   "source": [
    "Solution().findLUSlength('','a')"
   ]
  },
  {
   "cell_type": "markdown",
   "metadata": {},
   "source": [
    "太傻就是太傻...看看这个很有道理啊\n",
    "```\n",
    "Approach #2 Simple Solution[Accepted]\n",
    "Algorithm\n",
    "\n",
    "Simple analysis of this problem can lead to an easy solution.\n",
    "\n",
    "These three cases are possible with string aa and bb:-\n",
    "\n",
    "a=ba=b. If both the strings are identical, it is obvious that no subsequence will be uncommon. Hence, return -1.\n",
    "\n",
    "length(a)=length(b)length(a)=length(b) and a \\ne ba \n",
    "̸\n",
    "​\t\n",
    " =b. Example: abcabc and abdabd. In this case we can consider any string i.e. abcabc or abdabd as a required subsequence, as out of these two strings one string will never be a subsequence of other string. Hence, return length(a)length(a) or length(b)length(b).\n",
    "\n",
    "length(a) \\ne length(b)length(a) \n",
    "̸\n",
    "​\t\n",
    " =length(b). Example abcdabcd and abcabc. In this case we can consider bigger string as a required subsequence because bigger string can't be a subsequence of smaller string. Hence, return max(length(a),length(b))max(length(a),length(b)).\n",
    "```"
   ]
  },
  {
   "cell_type": "code",
   "execution_count": 33,
   "metadata": {},
   "outputs": [],
   "source": [
    "class Solution:\n",
    "    def findLUSlength(self, a, b):\n",
    "        \"\"\"\n",
    "        :type a: str\n",
    "        :type b: str\n",
    "        :rtype: int\n",
    "        \"\"\"\n",
    "        la = len(a)\n",
    "        lb = len(b)\n",
    "        maxs = -1\n",
    "        if a is None and b: return la\n",
    "        if b is None and a: return lb\n",
    "        if a == b or (a is None and b is None): return maxs\n",
    "        if la == lb : return la\n",
    "        else: return max(la,lb)\n"
   ]
  }
 ],
 "metadata": {
  "kernelspec": {
   "display_name": "Python 3",
   "language": "python",
   "name": "python3"
  },
  "language_info": {
   "codemirror_mode": {
    "name": "ipython",
    "version": 3
   },
   "file_extension": ".py",
   "mimetype": "text/x-python",
   "name": "python",
   "nbconvert_exporter": "python",
   "pygments_lexer": "ipython3",
   "version": "3.6.5"
  },
  "toc": {
   "base_numbering": 1,
   "nav_menu": {},
   "number_sections": true,
   "sideBar": true,
   "skip_h1_title": false,
   "title_cell": "Table of Contents",
   "title_sidebar": "Contents",
   "toc_cell": false,
   "toc_position": {},
   "toc_section_display": true,
   "toc_window_display": false
  }
 },
 "nbformat": 4,
 "nbformat_minor": 2
}
