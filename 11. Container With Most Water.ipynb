{
 "cells": [
  {
   "cell_type": "markdown",
   "metadata": {},
   "source": [
    "```\n",
    "Given n non-negative integers a1, a2, ..., an , where each represents a point at coordinate (i, ai). n vertical lines are drawn such that the two endpoints of line i is at (i, ai) and (i, 0). Find two lines, which together with x-axis forms a container, such that the container contains the most water.\n",
    "\n",
    "Note: You may not slant the container and n is at least 2.\n",
    "```"
   ]
  },
  {
   "cell_type": "markdown",
   "metadata": {},
   "source": [
    "```\n",
    "从第i个开始, 从最远的左端jl往右 or 右端jr往左,找到第1个大于ai的j(j = jr or jl) ,此时最大面积为max= abs(j-i)* ai \n",
    "\n",
    "轮询,更新max\n",
    "```"
   ]
  },
  {
   "cell_type": "code",
   "execution_count": 2,
   "metadata": {},
   "outputs": [],
   "source": [
    "class Solution:\n",
    "    def maxArea(self, height):\n",
    "        \"\"\"\n",
    "        :type height: List[int]\n",
    "        :rtype: int\n",
    "        \"\"\"\n",
    "        maxs = 0\n",
    "        ret = None\n",
    "        for i,ai in enumerate(height):\n",
    "            left = 0\n",
    "            right = len(height) -1       \n",
    "            while(left is not i):\n",
    "                if height[left] > height[i] :\n",
    "                    maxer =  height[i] * (i - left)\n",
    "                    maxs =  maxer if maxer > maxs else maxs \n",
    "                    ret = left,i,maxs\n",
    "                    break\n",
    "                else:\n",
    "                    left += 1\n",
    "            while(right is not i):\n",
    "                if height[right] > height[i]:\n",
    "                    maxer =  height[i] * (right - i)\n",
    "                    maxs =  maxer if maxer > maxs else maxs \n",
    "                    ret = right,i,maxs\n",
    "                    break\n",
    "                else:\n",
    "                    right -= 1\n",
    "        return ret\n",
    "                "
   ]
  },
  {
   "cell_type": "code",
   "execution_count": 3,
   "metadata": {},
   "outputs": [
    {
     "name": "stdout",
     "output_type": "stream",
     "text": [
      "[69, 38, 92, 49, 56, 58, 51, 92, 20, 73, 16, 94, 83, 27, 17, 41, 26, 16, 64, 73]\n"
     ]
    },
    {
     "data": {
      "text/plain": [
       "(2, 19, 1311)"
      ]
     },
     "execution_count": 3,
     "metadata": {},
     "output_type": "execute_result"
    }
   ],
   "source": [
    "import random\n",
    "nums = 20\n",
    "height = [ random.randint(1,100) for i in range(0,20)]\n",
    "print(height)\n",
    "Solution().maxArea(height)"
   ]
  },
  {
   "cell_type": "markdown",
   "metadata": {},
   "source": [
    "提交超时了...效率确实是个问题.\n",
    "```\n",
    "\n",
    "1. 先遍历 end-i 大的那一边; \n",
    "```"
   ]
  },
  {
   "cell_type": "code",
   "execution_count": 16,
   "metadata": {},
   "outputs": [],
   "source": [
    "class Solution:\n",
    "    def maxArea(self, height):\n",
    "        \"\"\"\n",
    "        :type height: List[int]\n",
    "        :rtype: int\n",
    "        \"\"\"\n",
    "        maxs = 0\n",
    "        ret = None\n",
    "        for i,ai in enumerate(height):\n",
    "            left = 0\n",
    "            right = len(height) -1       \n",
    "            while(left is not i):\n",
    "                if height[left] >= height[i] :\n",
    "                    maxer =  height[i] * (i - left)\n",
    "                    maxs =  maxer if maxer > maxs else maxs \n",
    "                    ret = left,i,maxs\n",
    "                    break\n",
    "                else:\n",
    "                    left += 1\n",
    "            while(right is not i):\n",
    "                if height[right] >= height[i]:\n",
    "                    maxer =  height[i] * (right - i)\n",
    "                    maxs =  maxer if maxer > maxs else maxs \n",
    "                    ret = right,i,maxs\n",
    "                    break\n",
    "                else:\n",
    "                    right -= 1\n",
    "        return maxs\n",
    "    def maxAreaBest(self, height):\n",
    "        i, j = 0, len(height) - 1\n",
    "        water = 0\n",
    "        while i < j:\n",
    "            water = max(water, (j - i) * min(height[i], height[j]))\n",
    "            if height[i] < height[j]:\n",
    "                i += 1\n",
    "            else:\n",
    "                j -= 1\n",
    "        return water\n",
    "    def maxAreaBetter(self, height):\n",
    "        \"\"\"\n",
    "        :type height: List[int]\n",
    "        :rtype: int\n",
    "        \"\"\"\n",
    "        maxs = 0 \n",
    "        left = 0\n",
    "        right = len(height) -1\n",
    "        \n",
    "        for i,ai in enumerate(height):\n",
    "            def _left(i,left,maxs,dis=0):\n",
    "                while((i-left ) > dis):\n",
    "                    if height[left] >= height[i]:\n",
    "                        maxer =  height[i] * (i - left)\n",
    "                        maxs =  maxer if maxer > maxs else maxs \n",
    "#                         ret = left,i,maxs\n",
    "                        break\n",
    "                    else: left += 1\n",
    "                return i-left,maxs\n",
    "            \n",
    "            def _right(i,right,maxs, dis=0):\n",
    "                while((right -i) > dis):\n",
    "                    if height[right] >= height[i] :\n",
    "                        \n",
    "                        maxer =  height[i] * (right - i)\n",
    "                        maxs =  maxer if maxer > maxs else maxs \n",
    "                        ret = right,i,maxs\n",
    "#                         print(\"i = %d , height[right]=%d max = %d \"% (i, height[right],maxs))\n",
    "                        break\n",
    "                    else: right -= 1\n",
    "                return right-i,maxs\n",
    "                \n",
    "            if (i - left) > (right - i):\n",
    "                _l,maxs = _left(i,left,maxs,0)\n",
    "                _,maxs = _right(i,right,maxs,_l)\n",
    "            else:\n",
    "                _r,maxs = _right(i,right,maxs,0)\n",
    "                _,maxs = _left(i,left,maxs,_r)                \n",
    "\n",
    "        return maxs"
   ]
  },
  {
   "cell_type": "code",
   "execution_count": 12,
   "metadata": {},
   "outputs": [
    {
     "name": "stdout",
     "output_type": "stream",
     "text": [
      "CPU times: user 413 ms, sys: 0 ns, total: 413 ms\n",
      "Wall time: 413 ms\n",
      "199455345\n",
      "CPU times: user 442 ms, sys: 0 ns, total: 442 ms\n",
      "Wall time: 443 ms\n",
      "199455345\n",
      "CPU times: user 129 ms, sys: 0 ns, total: 129 ms\n",
      "Wall time: 130 ms\n"
     ]
    },
    {
     "data": {
      "text/plain": [
       "199455345"
      ]
     },
     "execution_count": 12,
     "metadata": {},
     "output_type": "execute_result"
    }
   ],
   "source": [
    "nums = 20\n",
    "height = [ random.randint(1,1000) for i in range(0,200000)]\n",
    "# print(height)\n",
    "# height=[1,1]\n",
    "# height = [ i for i in range(0,2000)]\n",
    "%time ret = Solution().maxArea(height)\n",
    "print(ret)\n",
    "%time Solution().maxAreaBetter(height)\n",
    "print(ret)\n",
    "%time Solution().maxAreaBest(height)"
   ]
  },
  {
   "cell_type": "markdown",
   "metadata": {},
   "source": [
    "看看提交的!...被碾压...\n",
    "```\n",
    "先从2端开始往中间遍历. 距离肯定是减少的, 求v = 最小高度 * 距离, 只能将希望的小的高度改变,而且要变大. ()\n",
    "\n",
    "```"
   ]
  },
  {
   "cell_type": "code",
   "execution_count": 13,
   "metadata": {},
   "outputs": [],
   "source": [
    "class Solution:\n",
    "    def maxArea(self, height):\n",
    "        i, j = 0, len(height) - 1\n",
    "        water = 0\n",
    "        while i < j:\n",
    "            water = max(water, (j - i) * min(height[i], height[j]))\n",
    "            if height[i] < height[j]:\n",
    "                i += 1\n",
    "            else:\n",
    "                j -= 1\n",
    "        return water"
   ]
  }
 ],
 "metadata": {
  "kernelspec": {
   "display_name": "Python 3",
   "language": "python",
   "name": "python3"
  },
  "language_info": {
   "codemirror_mode": {
    "name": "ipython",
    "version": 3
   },
   "file_extension": ".py",
   "mimetype": "text/x-python",
   "name": "python",
   "nbconvert_exporter": "python",
   "pygments_lexer": "ipython3",
   "version": "3.6.5"
  }
 },
 "nbformat": 4,
 "nbformat_minor": 2
}
