{
 "cells": [
  {
   "cell_type": "markdown",
   "metadata": {},
   "source": [
    "```\n",
    "Determine whether an integer is a palindrome. An integer is a palindrome when it reads the same backward as forward.\n",
    "```"
   ]
  },
  {
   "cell_type": "code",
   "execution_count": 1,
   "metadata": {},
   "outputs": [
    {
     "data": {
      "text/plain": [
       "'-121'"
      ]
     },
     "execution_count": 1,
     "metadata": {},
     "output_type": "execute_result"
    }
   ],
   "source": [
    "str(-121)"
   ]
  },
  {
   "cell_type": "markdown",
   "metadata": {},
   "source": [
    "思路:首先变成str, 可能遇到 -号,拿掉,剩下的就是判断是否是palindrome了,没啥难度的\n",
    "    奇数和偶数分开判断"
   ]
  },
  {
   "cell_type": "code",
   "execution_count": 3,
   "metadata": {},
   "outputs": [],
   "source": [
    "class Solution:\n",
    "    def isPalindrome(self, x):\n",
    "        x = str(x)\n",
    "        x = x if x[0] is not '-' else x[1:]\n",
    "        # odd \n",
    "        middle = 0\n",
    "        lens = len(x)\n",
    "        # odd\n",
    "        m = 0\n",
    "        middle = lens // 2\n",
    "        if lens == 0: return False\n",
    "        if lens & 1 is 1:\n",
    "            left = middle\n",
    "            right = middle\n",
    "            if lens == 1: return True\n",
    "        else:    \n",
    "            left = middle -1\n",
    "            right = middle\n",
    "            if lens == 2: return True if x[left] == x[right] else False\n",
    "            \n",
    "        while( (left-m) >=0 and (right+m) < lens ):\n",
    "            if x[left-m] == x[right + m]:\n",
    "                m += 1\n",
    "            else:\n",
    "                return False\n",
    "        return True"
   ]
  },
  {
   "cell_type": "code",
   "execution_count": 4,
   "metadata": {},
   "outputs": [
    {
     "data": {
      "text/plain": [
       "True"
      ]
     },
     "execution_count": 4,
     "metadata": {},
     "output_type": "execute_result"
    }
   ],
   "source": [
    "Solution().isPalindrome(-121)"
   ]
  },
  {
   "cell_type": "code",
   "execution_count": 5,
   "metadata": {},
   "outputs": [],
   "source": [
    "class Solution:\n",
    "    def isPalindrome(self, x):\n",
    "        \"\"\"\n",
    "        :type x: int\n",
    "        :rtype: bool\n",
    "        \"\"\"\n",
    "        dig = []\n",
    "        left = x\n",
    "        if x < 0 :  return False\n",
    "        if ( 0 <= x < 10):  return True\n",
    "        while(left != 0):\n",
    "            dig.append( left % ( 10 ))\n",
    "            left  = left // 10\n",
    "            \n",
    "        l = len(dig)\n",
    "        for i in range(l // 2):\n",
    "            if dig[i] == dig [l-i-1] : continue\n",
    "            else : return False\n",
    "        return True"
   ]
  },
  {
   "cell_type": "code",
   "execution_count": 6,
   "metadata": {},
   "outputs": [
    {
     "data": {
      "text/plain": [
       "True"
      ]
     },
     "execution_count": 6,
     "metadata": {},
     "output_type": "execute_result"
    }
   ],
   "source": [
    "Solution().isPalindrome(12321)"
   ]
  },
  {
   "cell_type": "markdown",
   "metadata": {},
   "source": [
    "str快一点"
   ]
  },
  {
   "cell_type": "code",
   "execution_count": 7,
   "metadata": {},
   "outputs": [],
   "source": [
    "class Solution:\n",
    "    def isPalindrome(self, x):\n",
    "        \"\"\"\n",
    "        :type x: int\n",
    "        :rtype: bool\n",
    "        \"\"\"\n",
    "        if x < 0 :  return False\n",
    "        if ( 0 <= x < 10):  return True\n",
    "        dig = str(x)\n",
    "        for i in range(l // 2):\n",
    "            if dig[i] == dig [l-i-1] : continue\n",
    "            else : return False\n",
    "        return True"
   ]
  },
  {
   "cell_type": "code",
   "execution_count": null,
   "metadata": {},
   "outputs": [],
   "source": []
  }
 ],
 "metadata": {
  "kernelspec": {
   "display_name": "Python 3",
   "language": "python",
   "name": "python3"
  },
  "language_info": {
   "codemirror_mode": {
    "name": "ipython",
    "version": 3
   },
   "file_extension": ".py",
   "mimetype": "text/x-python",
   "name": "python",
   "nbconvert_exporter": "python",
   "pygments_lexer": "ipython3",
   "version": "3.6.5"
  }
 },
 "nbformat": 4,
 "nbformat_minor": 2
}
