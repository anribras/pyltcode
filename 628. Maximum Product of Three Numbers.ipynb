{
 "cells": [
  {
   "cell_type": "markdown",
   "metadata": {},
   "source": [
    "```\n",
    "Given an integer array, find three numbers whose product is maximum and output the maximum product.\n",
    "\n",
    "Example 1:\n",
    "Input: [1,2,3]\n",
    "Output: 6\n",
    "Example 2:\n",
    "Input: [1,2,3,4]\n",
    "Output: 24\n",
    "Note:\n",
    "The length of the given array will be in range [3,104] and all elements are in the range [-1000, 1000].\n",
    "Multiplication of any three numbers in the input won't exceed the range of 32-bit signed integer.\n",
    "```"
   ]
  },
  {
   "cell_type": "markdown",
   "metadata": {},
   "source": [
    "找3个数的乘积最大. CounterDict...找到最大的, 然后看个数 ,>=3 <3 在看第2个.\n",
    "\n",
    "没注意负数!,考虑负数就没那么简单了."
   ]
  },
  {
   "cell_type": "markdown",
   "metadata": {},
   "source": [
    "分情况:\n",
    "    全为正/全为负/1个负/2个以上负数"
   ]
  },
  {
   "cell_type": "code",
   "execution_count": 5,
   "metadata": {},
   "outputs": [],
   "source": [
    "def cal_products(cd, count, way='pos'):\n",
    "    maxs = max(cd.keys()) if way == 'pos' else min(cd.keys())\n",
    "    counts = count\n",
    "    products = 1\n",
    "    while(counts > 0):\n",
    "        while cd[maxs] >0 and counts > 0:\n",
    "            products *= maxs \n",
    "            cd[maxs]-=1\n",
    "            counts -=1\n",
    "        if counts <=0: break\n",
    "        else:\n",
    "            cd.pop(maxs)\n",
    "            maxs = max(cd.keys()) if way == 'pos' else min(cd.keys())\n",
    "    return products\n",
    "\n",
    "\n",
    "from collections import Counter\n",
    "class Solution:\n",
    "    def maximumProduct(self, nums):\n",
    "        \"\"\"\n",
    "        :type nums: List[int]\n",
    "        :rtype: int\n",
    "        \"\"\"\n",
    "        positive = nagtive = maxs = mins = 0\n",
    "        products = 1\n",
    "        for i in nums:\n",
    "            if i >=0: positive += 1\n",
    "            if i < 0: nagtive += 1\n",
    "        cd = Counter(nums)\n",
    "        if nagtive == 0 or nagtive == 1 or positive == 0:\n",
    "            return cal_products(cd,3,'pos')\n",
    "        else:\n",
    "            assert(nagtive >= 2)\n",
    "            nag_max = cal_products(cd ,2, 'nag') *  max(cd.keys()) \n",
    "            if positive == 1: \n",
    "                return nag_max\n",
    "            else:\n",
    "                pos_max = cal_products(cd ,3, 'pos')\n",
    "                return  max(pos_max, nag_max)"
   ]
  },
  {
   "cell_type": "markdown",
   "metadata": {},
   "source": [
    "看大神思路... 不分那么细, 反正结果总是max1 * max( (min1*min2) , (max2*max3)"
   ]
  },
  {
   "cell_type": "code",
   "execution_count": 7,
   "metadata": {},
   "outputs": [],
   "source": [
    "class Solution(object):\n",
    "    def maximumProduct(self, nums):\n",
    "        max1 = max2 = max3 = float(\"-inf\")\n",
    "        min1 = min2 = float(\"inf\")        \n",
    "        for n in nums:\n",
    "            if n > max3:\n",
    "                max1, max2, max3 = sorted([max1, max2, n], reverse=True)\n",
    "            if n < min2:\n",
    "                min1, min2 = sorted([min1, n])                    \n",
    "        return max1*max(max2*max3, min1*min2)"
   ]
  },
  {
   "cell_type": "code",
   "execution_count": null,
   "metadata": {},
   "outputs": [],
   "source": []
  }
 ],
 "metadata": {
  "kernelspec": {
   "display_name": "Python 3",
   "language": "python",
   "name": "python3"
  },
  "language_info": {
   "codemirror_mode": {
    "name": "ipython",
    "version": 3
   },
   "file_extension": ".py",
   "mimetype": "text/x-python",
   "name": "python",
   "nbconvert_exporter": "python",
   "pygments_lexer": "ipython3",
   "version": "3.6.5"
  }
 },
 "nbformat": 4,
 "nbformat_minor": 2
}
