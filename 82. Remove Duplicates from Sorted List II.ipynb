{
 "cells": [
  {
   "cell_type": "markdown",
   "metadata": {},
   "source": [
    "82. Remove Duplicates from Sorted List II"
   ]
  },
  {
   "cell_type": "markdown",
   "metadata": {},
   "source": [
    "有序链表，去掉重复的，不留.\n",
    "```sh\n",
    "Example 1:\n",
    "\n",
    "Input: 1->2->3->3->4->4->5\n",
    "Output: 1->2->5\n",
    "Example 2:\n",
    "\n",
    "Input: 1->1->1->2->3\n",
    "Output: 2->3\n",
    "```"
   ]
  },
  {
   "cell_type": "markdown",
   "metadata": {},
   "source": [
    "这个题应该和88是一个类型的,利用好prev_prev指针"
   ]
  },
  {
   "cell_type": "markdown",
   "metadata": {},
   "source": [
    "核心是prev_prev_指针:"
   ]
  },
  {
   "cell_type": "markdown",
   "metadata": {},
   "source": [
    "在纸上举1个 能覆盖所有场景的例子: 本题如:\n",
    "```sh\n",
    "1->1->2->2->2->3->4->4->4\n",
    "```"
   ]
  },
  {
   "cell_type": "markdown",
   "metadata": {},
   "source": [
    "```c\n",
    "ListNode *newh = head;        \n",
    "\t\n",
    "    if (head == NULL || head->next == NULL)\n",
    "        return head;\n",
    "    \n",
    "    ListNode *prev = newh;\n",
    "    ListNode *pprev = NULL;\n",
    "    ListNode *next = newh->next;\n",
    "    \n",
    "    while (next != NULL) {\n",
    "        if (prev->val == next->val) {\n",
    "            while (next != NULL && next->val == prev->val)\n",
    "                next = next->next;\n",
    "            \n",
    "            if (prev == newh)\n",
    "                newh = next;\n",
    "            \n",
    "            if (pprev != NULL)\n",
    "                pprev->next = next;\n",
    "            \n",
    "            prev = next;\n",
    "            \n",
    "            if (next != NULL)\n",
    "                next = next->next;                \n",
    "        } else {\n",
    "            pprev = prev;\n",
    "            next = next->next;\n",
    "            prev = prev->next;   \n",
    "        }\n",
    "    }\n",
    "    \n",
    "    return newh;\n",
    "}\n",
    "\n",
    "```"
   ]
  },
  {
   "cell_type": "code",
   "execution_count": null,
   "metadata": {},
   "outputs": [],
   "source": []
  }
 ],
 "metadata": {
  "kernelspec": {
   "display_name": "Python 3",
   "language": "python",
   "name": "python3"
  },
  "language_info": {
   "codemirror_mode": {
    "name": "ipython",
    "version": 3
   },
   "file_extension": ".py",
   "mimetype": "text/x-python",
   "name": "python",
   "nbconvert_exporter": "python",
   "pygments_lexer": "ipython3",
   "version": "3.6.5"
  },
  "toc": {
   "base_numbering": 1,
   "nav_menu": {},
   "number_sections": true,
   "sideBar": true,
   "skip_h1_title": false,
   "title_cell": "Table of Contents",
   "title_sidebar": "Contents",
   "toc_cell": false,
   "toc_position": {},
   "toc_section_display": true,
   "toc_window_display": false
  }
 },
 "nbformat": 4,
 "nbformat_minor": 2
}
