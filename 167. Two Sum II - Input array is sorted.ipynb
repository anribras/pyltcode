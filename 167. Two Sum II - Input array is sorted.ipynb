{
 "cells": [
  {
   "cell_type": "markdown",
   "metadata": {},
   "source": [
    "```\n",
    "Given an array of integers that is already sorted in ascending order, find two numbers such that they add up to a specific target number.\n",
    "\n",
    "The function twoSum should return indices of the two numbers such that they add up to the target, where index1 must be less than index2.\n",
    "\n",
    "Note:\n",
    "\n",
    "Your returned answers (both index1 and index2) are not zero-based.\n",
    "You may assume that each input would have exactly one solution and you may not use the same element twice.\n",
    "Example:\n",
    "\n",
    "Input: numbers = [2,7,11,15], target = 9\n",
    "Output: [1,2]\n",
    "Explanation: The sum of 2 and 7 is 9. Therefore index1 = 1, index2 = 2.\n",
    "```"
   ]
  },
  {
   "cell_type": "code",
   "execution_count": 1,
   "metadata": {},
   "outputs": [],
   "source": [
    "def binary_search(start, end, nums,val):\n",
    "    mid = (start + end)//2 \n",
    "    if nums[mid] == val: return mid\n",
    "    if start >= end: return None\n",
    "    if nums[mid] > val : return binary_search(start,mid-1,nums,val)\n",
    "    if nums[mid] < val : return binary_search(mid+1,end,nums,val)\n",
    "    \n",
    "class Solution:\n",
    "    def twoSum(self, numbers, target):\n",
    "        \"\"\"\n",
    "        :type numbers: List[int]\n",
    "        :type target: int\n",
    "        :rtype: List[int]\n",
    "        \"\"\"\n",
    "        for idx,i in enumerate(numbers):\n",
    "            ret =  binary_search(idx+1,len(numbers)-1,numbers, target-i)\n",
    "            if ret:\n",
    "                return [ idx+1, ret+1 ] if i <= numbers[ret] else [ ret+1,idx+1]"
   ]
  },
  {
   "cell_type": "markdown",
   "metadata": {},
   "source": [
    "改了几次: \n",
    "```\n",
    "index 从1开始;\n",
    "binary_search 不需要从0开始,而是从idx+1开始,即不搜索i 自己.\n",
    "\n",
    "```"
   ]
  },
  {
   "cell_type": "markdown",
   "metadata": {},
   "source": [
    "不够快啊,想用set? 但是返回值是index,\n",
    "\n",
    "想到的是hash表,比Counter还要猛一点,\n",
    "```\n",
    "0 ---> 5 ---> 6\n",
    "1----> 7 ----8\n",
    "2----> 2 ---> 3 ---4\n",
    "```\n",
    "遍历 表的键值, 如果存在 0 + 1 =1 , return 对应桶的首个index\n",
    "如果不存在 ,有一种情况是 1 + 1 =2, 即两个元素位于同一个桶,\n"
   ]
  },
  {
   "cell_type": "markdown",
   "metadata": {},
   "source": [
    "普通的dict, 键值相同时,后者覆盖了前者, 如果不覆盖, 其键值应该是一个generator, 可能1个key可能有多个值."
   ]
  },
  {
   "cell_type": "code",
   "execution_count": 2,
   "metadata": {},
   "outputs": [],
   "source": [
    "class HashTable:\n",
    "    def __init__(self,l):\n",
    "        self.keys = set(l)\n",
    "        self.dicts = {k:[] for k in self.keys }\n",
    "        for i,v in enumerate(l):\n",
    "            self.dicts[v].append(i)\n",
    "    def __getitem__(self,key):\n",
    "        return self.dicts[key] if key in self.keys else None\n",
    "    def __str__(self):\n",
    "        return  \"{\\n%s\\n}\"% ([\"%s:%s\"%(k,str(v)) for k,v in self.dicts.items()])"
   ]
  },
  {
   "cell_type": "code",
   "execution_count": 3,
   "metadata": {},
   "outputs": [],
   "source": [
    "a = HashTable([3,3,2,2,2,0,0,1,1] )"
   ]
  },
  {
   "cell_type": "code",
   "execution_count": 5,
   "metadata": {},
   "outputs": [
    {
     "name": "stdout",
     "output_type": "stream",
     "text": [
      "{\n",
      "['0:[5, 6]', '1:[7, 8]', '2:[2, 3, 4]', '3:[0, 1]']\n",
      "}\n"
     ]
    }
   ],
   "source": [
    "print(a)"
   ]
  },
  {
   "cell_type": "code",
   "execution_count": 6,
   "metadata": {},
   "outputs": [],
   "source": [
    "class HashTable:\n",
    "    def __init__(self,l):\n",
    "        self.keys = set(l)\n",
    "        self.dicts = {k:[] for k in self.keys }\n",
    "        for i,v in enumerate(l):\n",
    "            self.dicts[v].append(i)\n",
    "    def __getitem__(self,key):\n",
    "        return self.dicts[key] if key in self.keys else None\n",
    "    def __str__(self):\n",
    "        return  \"{\\n%s\\n}\"% ([\"%s:%s\"%(k,str(v)) for k,v in self.dicts.items()])\n",
    "    \n",
    "class Solution:\n",
    "    def twoSum(self, numbers, target):\n",
    "        \"\"\"\n",
    "        :type numbers: List[int]\n",
    "        :type target: int\n",
    "        :rtype: List[int]\n",
    "        \"\"\"\n",
    "        ht = HashTable(numbers)\n",
    "        for i in ht.keys:\n",
    "            if target-i in ht.keys:\n",
    "                if (target -i) == i :\n",
    "                    if len(ht[i]) > 1:\n",
    "                        return [ht[i][0] + 1, ht[i][1] + 1]\n",
    "                    else: pass\n",
    "                else:\n",
    "                    return [ht[i][0] + 1 ,ht[target-i][0] + 1] if i <=  target -i else  \\\n",
    "                    [ht[target-i][0] + 1,ht[i][0] + 1]"
   ]
  },
  {
   "cell_type": "code",
   "execution_count": 7,
   "metadata": {},
   "outputs": [
    {
     "data": {
      "text/plain": [
       "[1, 2]"
      ]
     },
     "execution_count": 7,
     "metadata": {},
     "output_type": "execute_result"
    }
   ],
   "source": [
    "Solution().twoSum([2,7,11,15],9)"
   ]
  },
  {
   "cell_type": "code",
   "execution_count": 8,
   "metadata": {},
   "outputs": [
    {
     "data": {
      "text/plain": [
       "[2, 6]"
      ]
     },
     "execution_count": 8,
     "metadata": {},
     "output_type": "execute_result"
    }
   ],
   "source": [
    "Solution().twoSum([0,1,1,2,3,4,15],5)"
   ]
  },
  {
   "cell_type": "markdown",
   "metadata": {},
   "source": [
    "更快的方法, 遍历元素,先存到dict中, 再遇到元素 看是否和dict中满足条件,满足结束 over"
   ]
  },
  {
   "cell_type": "code",
   "execution_count": 11,
   "metadata": {},
   "outputs": [],
   "source": [
    "class Solution:\n",
    "    def twoSum(self, numbers, target):\n",
    "        dic = {}\n",
    "        for i, num in enumerate(numbers):\n",
    "            if target-num in dic:\n",
    "                return [dic[target-num]+1, i+1]\n",
    "            dic[num] = i"
   ]
  },
  {
   "cell_type": "markdown",
   "metadata": {},
   "source": [
    "方法3: 用two pointers思想:\n",
    "```\n",
    "左右两个pointers，条件是l<r，然后循环的最后是有条件的l+=1或者r-=1，取决于sum_num是否小于target，因为array是已经排好的，所以如果比target大，证明要让sum_num变小\n",
    "\n",
    "所以右指针向左移\n",
    "```"
   ]
  },
  {
   "cell_type": "code",
   "execution_count": 4,
   "metadata": {},
   "outputs": [],
   "source": [
    "class Solution(object):\n",
    "    def twoSum(self, numbers, target):\n",
    "        \"\"\"\n",
    "        :type numbers: List[int]\n",
    "        :type target: int\n",
    "        :rtype: List[int]\n",
    "        \"\"\"\n",
    "        l=0\n",
    "        r=len(numbers)-1\n",
    "        while l<r:\n",
    "            sum_num=numbers[l]+numbers[r]\n",
    "            if sum_num==target:\n",
    "                return [l+1,r+1]\n",
    "            elif sum_num<target:\n",
    "                l+=1\n",
    "            elif sum_num>target:\n",
    "                r-=1"
   ]
  },
  {
   "cell_type": "code",
   "execution_count": null,
   "metadata": {},
   "outputs": [],
   "source": []
  }
 ],
 "metadata": {
  "kernelspec": {
   "display_name": "Python 3",
   "language": "python",
   "name": "python3"
  },
  "language_info": {
   "codemirror_mode": {
    "name": "ipython",
    "version": 3
   },
   "file_extension": ".py",
   "mimetype": "text/x-python",
   "name": "python",
   "nbconvert_exporter": "python",
   "pygments_lexer": "ipython3",
   "version": "3.6.5"
  },
  "toc": {
   "base_numbering": 1,
   "nav_menu": {},
   "number_sections": true,
   "sideBar": true,
   "skip_h1_title": false,
   "title_cell": "Table of Contents",
   "title_sidebar": "Contents",
   "toc_cell": false,
   "toc_position": {},
   "toc_section_display": true,
   "toc_window_display": false
  }
 },
 "nbformat": 4,
 "nbformat_minor": 2
}
