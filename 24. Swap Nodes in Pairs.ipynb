{
 "cells": [
  {
   "cell_type": "markdown",
   "metadata": {},
   "source": [
    "24. Swap Nodes in Pairs\n"
   ]
  },
  {
   "cell_type": "markdown",
   "metadata": {},
   "source": [
    "有点像链表翻转，需要处理好3个指针的逻辑关系.\n",
    "\n",
    "\n",
    "```sh\n",
    "1->2->3->4->5->6\n",
    "```\n"
   ]
  },
  {
   "cell_type": "markdown",
   "metadata": {},
   "source": [
    "```c\n",
    "\n",
    "/**\n",
    " * Definition for singly-linked list.\n",
    " * struct ListNode {\n",
    " *     int val;\n",
    " *     ListNode *next;\n",
    " *     ListNode(int x) : val(x), next(NULL) {}\n",
    " * };\n",
    " */\n",
    "class Solution {\n",
    "public:\n",
    "    ListNode* swapPairs(ListNode* head) {\n",
    "        if(head == nullptr) return nullptr;\n",
    "        auto prev = head;\n",
    "        decltype(prev) prev_prev = nullptr;\n",
    "        auto tmp = prev->next;\n",
    "        \n",
    "        \n",
    "        while(tmp) {\n",
    "        \n",
    "            prev->next = tmp->next;\n",
    "            tmp->next = prev;\n",
    "            \n",
    "            if(prev_prev == nullptr) {\n",
    "                head = tmp;\n",
    "            } else {\n",
    "                prev_prev->next = tmp;   \n",
    "            }\n",
    "            \n",
    "            prev_prev = prev;\n",
    "            \n",
    "            \n",
    "            prev = prev->next;\n",
    "            if(prev && prev->next) {\n",
    "                tmp = prev->next;\n",
    "                \n",
    "            } else {\n",
    "                break;\n",
    "            }   \n",
    "            \n",
    "        }\n",
    "        return head;\n",
    "    }\n",
    "};\n",
    "```"
   ]
  },
  {
   "cell_type": "code",
   "execution_count": null,
   "metadata": {},
   "outputs": [],
   "source": []
  }
 ],
 "metadata": {
  "kernelspec": {
   "display_name": "Python 3",
   "language": "python",
   "name": "python3"
  },
  "language_info": {
   "codemirror_mode": {
    "name": "ipython",
    "version": 3
   },
   "file_extension": ".py",
   "mimetype": "text/x-python",
   "name": "python",
   "nbconvert_exporter": "python",
   "pygments_lexer": "ipython3",
   "version": "3.6.5"
  },
  "toc": {
   "base_numbering": 1,
   "nav_menu": {},
   "number_sections": true,
   "sideBar": true,
   "skip_h1_title": false,
   "title_cell": "Table of Contents",
   "title_sidebar": "Contents",
   "toc_cell": false,
   "toc_position": {},
   "toc_section_display": true,
   "toc_window_display": false
  }
 },
 "nbformat": 4,
 "nbformat_minor": 2
}
