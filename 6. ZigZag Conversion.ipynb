{
 "cells": [
  {
   "cell_type": "markdown",
   "metadata": {},
   "source": [
    "```\n",
    "The string \"PAYPALISHIRING\" is written in a zigzag pattern on a given number of rows like this: (you may want to display this pattern in a fixed font for better legibility)\n",
    "P     A     H     N\n",
    "A  P  L  S  I  I  G\n",
    "Y     I     R\n",
    "\n",
    "And then read line by line: \"PAHNAPLSIIGYIR\"\n",
    "\n",
    "Write the code that will take a string and make this conversion given a number of rows:\n",
    "\n",
    "string convert(string s, int numRows);\n",
    "Example 1:\n",
    "\n",
    "Input: s = \"PAYPALISHIRING\", numRows = 3\n",
    "Output: \"PAHNAPLSIIGYIR\"\n",
    "Example 2:\n",
    "\n",
    "Input: s = \"PAYPALISHIRING\", numRows = 4\n",
    "Output: \"PINALSIGYAHRPI\"\n",
    "Explanation:\n",
    "\n",
    "P       I       N\n",
    "A    L  S    I  G\n",
    "Y  A    H  R\n",
    "P       I\n",
    "\n",
    "```"
   ]
  },
  {
   "cell_type": "markdown",
   "metadata": {},
   "source": [
    "思路: 按row分组 再相加! \n",
    "    \n",
    "    分成rows个string,分组的思想即可...\n",
    "    原来的string的元素放到哪个组?\n",
    "    如果到最后一个row了,又翻转即可...\n",
    "    "
   ]
  },
  {
   "cell_type": "code",
   "execution_count": 3,
   "metadata": {},
   "outputs": [],
   "source": [
    "class Solution:\n",
    "    def convert(self, s, numRows):\n",
    "        \"\"\"\n",
    "        :type s: str\n",
    "        :type numRows: int\n",
    "        :rtype: str\n",
    "        \"\"\"\n",
    "        numer_row =  min(numRows, len(s))\n",
    "        # 创建rows行个string\n",
    "        rows = [ '' for i in range(numer_row)]\n",
    "        going_down = False\n",
    "        idx = 0\n",
    "        for i in s:\n",
    "            print('idx=',idx)\n",
    "            rows[ idx] += i\n",
    "            if (idx == numRows - 1 ) or (idx == 0):\n",
    "                going_down  = not going_down\n",
    "            if going_down:\n",
    "                idx +=1 \n",
    "            else :\n",
    "                idx -=1\n",
    "        final = ''\n",
    "        \n",
    "        for r in rows:\n",
    "#             print(r)\n",
    "            final += r\n",
    "        return final"
   ]
  },
  {
   "cell_type": "code",
   "execution_count": 4,
   "metadata": {},
   "outputs": [
    {
     "name": "stdout",
     "output_type": "stream",
     "text": [
      "idx= 0\n",
      "idx= 1\n",
      "idx= 2\n",
      "idx= 3\n",
      "idx= 2\n",
      "idx= 1\n",
      "idx= 0\n",
      "idx= 1\n",
      "idx= 2\n",
      "idx= 3\n",
      "idx= 2\n",
      "idx= 1\n",
      "idx= 0\n",
      "idx= 1\n"
     ]
    },
    {
     "data": {
      "text/plain": [
       "'PINALSIGYAHRPI'"
      ]
     },
     "execution_count": 4,
     "metadata": {},
     "output_type": "execute_result"
    }
   ],
   "source": [
    "Solution().convert('PAYPALISHIRING',4)"
   ]
  },
  {
   "cell_type": "code",
   "execution_count": null,
   "metadata": {},
   "outputs": [],
   "source": []
  }
 ],
 "metadata": {
  "kernelspec": {
   "display_name": "Python 3",
   "language": "python",
   "name": "python3"
  },
  "language_info": {
   "codemirror_mode": {
    "name": "ipython",
    "version": 3
   },
   "file_extension": ".py",
   "mimetype": "text/x-python",
   "name": "python",
   "nbconvert_exporter": "python",
   "pygments_lexer": "ipython3",
   "version": "3.6.5"
  }
 },
 "nbformat": 4,
 "nbformat_minor": 2
}
