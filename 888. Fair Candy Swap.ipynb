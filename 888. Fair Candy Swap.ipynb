{
 "cells": [
  {
   "cell_type": "markdown",
   "metadata": {},
   "source": [
    "```\n",
    "Alice and Bob have candy bars of different sizes: A[i] is the size of the i-th bar of candy that Alice has, and B[j] is the size of the j-th bar of candy that Bob has.\n",
    "\n",
    "Since they are friends, they would like to exchange one candy bar each so that after the exchange, they both have the same total amount of candy.  (The total amount of candy a person has is the sum of the sizes of candy bars they have.)\n",
    "\n",
    "Return an integer array ans where ans[0] is the size of the candy bar that Alice must exchange, and ans[1] is the size of the candy bar that Bob must exchange.\n",
    "\n",
    "If there are multiple answers, you may return any one of them.  It is guaranteed an answer exists.\n",
    "\n",
    " \n",
    "\n",
    "Example 1:\n",
    "\n",
    "Input: A = [1,1], B = [2,2]\n",
    "Output: [1,2]\n",
    "Example 2:\n",
    "\n",
    "Input: A = [1,2], B = [2,3]\n",
    "Output: [1,2]\n",
    "Example 3:\n",
    "\n",
    "Input: A = [2], B = [1,3]\n",
    "Output: [2,3]\n",
    "Example 4:\n",
    "\n",
    "Input: A = [1,2,5], B = [2,4]\n",
    "Output: [5,4]\n",
    "```"
   ]
  },
  {
   "cell_type": "code",
   "execution_count": 1,
   "metadata": {},
   "outputs": [],
   "source": [
    "class Solution:\n",
    "    def fairCandySwap(self, A, B):\n",
    "        \"\"\"\n",
    "        :type A: List[int]\n",
    "        :type B: List[int]\n",
    "        :rtype: List[int]\n",
    "        \"\"\"\n",
    "        # A[:i]+A[i+1:]+B[j] == B[:j]+B[j+1:]+A[i]\n",
    "        \n",
    "        for i in range(0,len(A)):\n",
    "            for j in range(0,len(B)):\n",
    "                if B[j] + sum(A[:i] + A[i+1:]) == A[i] + sum(B[:j] + B[j+1:]):\n",
    "                    return [A[i],B[j]]"
   ]
  },
  {
   "cell_type": "markdown",
   "metadata": {},
   "source": [
    "```\n",
    "sumA -Ai + Bj = sumB - Bj + Ai\n",
    "Bj - Ai = (sumB- sumA) / 2\n",
    "Bj = (sumB-sumA)/2 + Ai?\n",
    "```"
   ]
  },
  {
   "cell_type": "code",
   "execution_count": 4,
   "metadata": {},
   "outputs": [],
   "source": [
    "class Solution:\n",
    "    def fairCandySwap(self, A, B):\n",
    "        \"\"\"\n",
    "        :type A: List[int]\n",
    "        :type B: List[int]\n",
    "        :rtype: List[int]\n",
    "        \"\"\"\n",
    "\n",
    "        sumA = sum(A)\n",
    "        sumB = sum(B)\n",
    "        for i in range(0,len(A)):\n",
    "            for j in range(0,len(B)):\n",
    "                #same symbol\n",
    "                if (sumA < sumB and A[i] > B[j]) or (sumA > sumB and A[i] < B[j]) : continue\n",
    "                    \n",
    "                if (sumA - A[i] + B[j] )== (sumB - B[j] + A[i]):\n",
    "                    return [A[i],B[j]]"
   ]
  },
  {
   "cell_type": "markdown",
   "metadata": {},
   "source": [
    "超时...大神门,很喜欢用set来加速循环的查找啊? \n",
    "```\n",
    "前提是可以用set, 也要看情况的!  比如本题中,答案并不唯一, 要交换A中的1 ,并不要关心位置,而是它的值, 就可以用set\n",
    "```"
   ]
  },
  {
   "cell_type": "code",
   "execution_count": 5,
   "metadata": {},
   "outputs": [],
   "source": [
    "class Solution:\n",
    "    def fairCandySwap(self, A, B):\n",
    "        dif = (sum(A) - sum(B)) / 2\n",
    "        A = set(A)\n",
    "        for b in set(B):\n",
    "            if dif + b in A:\n",
    "                return [dif + b, b]\n"
   ]
  },
  {
   "cell_type": "code",
   "execution_count": null,
   "metadata": {},
   "outputs": [],
   "source": []
  }
 ],
 "metadata": {
  "kernelspec": {
   "display_name": "Python 3",
   "language": "python",
   "name": "python3"
  },
  "language_info": {
   "codemirror_mode": {
    "name": "ipython",
    "version": 3
   },
   "file_extension": ".py",
   "mimetype": "text/x-python",
   "name": "python",
   "nbconvert_exporter": "python",
   "pygments_lexer": "ipython3",
   "version": "3.6.5"
  }
 },
 "nbformat": 4,
 "nbformat_minor": 2
}
