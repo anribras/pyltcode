{
 "cells": [
  {
   "cell_type": "markdown",
   "metadata": {},
   "source": [
    "Given a 32-bit signed integer, reverse digits of an integer."
   ]
  },
  {
   "cell_type": "markdown",
   "metadata": {},
   "source": [
    "要点是:\n",
    "```py\n",
    "    全部按绝对值来算,符号额外记住,最后再乘上去,\n",
    "    循环时, 结果的高位和取的地位同时进行\n",
    "```"
   ]
  },
  {
   "cell_type": "code",
   "execution_count": 3,
   "metadata": {},
   "outputs": [],
   "source": [
    "class Solution:\n",
    "    def reverse(self, x):\n",
    "        \"\"\"\n",
    "        :type x: int\n",
    "        :rtype: int\n",
    "        \"\"\"\n",
    "        if -10 < x < 10: return x \n",
    "        dig = []\n",
    "        flag = 1 if x > 0 else -1\n",
    "        x=abs(x) if x < 0 else x\n",
    "        left = x\n",
    "        i  =1 \n",
    "        final = 0\n",
    "        while ( not -10 < left < 10):\n",
    "            final *= 10\n",
    "            d = left % (10 )\n",
    "            final += d\n",
    "            left = left // 10\n",
    "        \n",
    "        final *= 10\n",
    "        final += left\n",
    "        final *= flag\n",
    "        \n",
    "#         print(final)"
   ]
  },
  {
   "cell_type": "code",
   "execution_count": 4,
   "metadata": {},
   "outputs": [],
   "source": [
    "Solution().reverse(-11)"
   ]
  },
  {
   "cell_type": "code",
   "execution_count": null,
   "metadata": {},
   "outputs": [],
   "source": []
  }
 ],
 "metadata": {
  "kernelspec": {
   "display_name": "Python 3",
   "language": "python",
   "name": "python3"
  },
  "language_info": {
   "codemirror_mode": {
    "name": "ipython",
    "version": 3
   },
   "file_extension": ".py",
   "mimetype": "text/x-python",
   "name": "python",
   "nbconvert_exporter": "python",
   "pygments_lexer": "ipython3",
   "version": "3.6.5"
  }
 },
 "nbformat": 4,
 "nbformat_minor": 2
}
