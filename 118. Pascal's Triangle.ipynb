{
 "cells": [
  {
   "cell_type": "markdown",
   "metadata": {},
   "source": [
    "```\n",
    "Input: 5\n",
    "Output:\n",
    "[\n",
    "     [1],\n",
    "    [1,1],\n",
    "   [1,2,1],\n",
    "  [1,3,3,1],\n",
    " [1,4,6,4,1]\n",
    "]\n",
    "```"
   ]
  },
  {
   "cell_type": "code",
   "execution_count": 1,
   "metadata": {},
   "outputs": [],
   "source": [
    "class Solution:\n",
    "    def generate(self, numRows):\n",
    "        \"\"\"\n",
    "        :type numRows: int\n",
    "        :rtype: List[List[int]]\n",
    "        \"\"\"\n",
    "        def Pascal(numRows):\n",
    "            ret = [ ]\n",
    "            ret.append(1)\n",
    "            if numRows == 1: return ret\n",
    "            for i in range(1,numRows-1):\n",
    "#                 print(Pascal(numRows-1),i)\n",
    "                ret.append(Pascal(numRows-1)[i-1] + Pascal(numRows-1)[i])\n",
    "            ret.append(1)\n",
    "            return ret\n",
    "        \n",
    "        return [Pascal(i) for i in range(1,numRows+1)]"
   ]
  },
  {
   "cell_type": "code",
   "execution_count": 2,
   "metadata": {},
   "outputs": [],
   "source": [
    "class Solution:\n",
    "    def generate(self, numRows):\n",
    "        \"\"\"\n",
    "        :type numRows: int\n",
    "        :rtype: List[List[int]]\n",
    "        \"\"\"\n",
    "        def genRows(lastRow):\n",
    "            ret = []\n",
    "            ret.append(1)\n",
    "            for i in range(1,len(lastRow)):\n",
    "                ret.append(lastRow[i-1]+lastRow[i])\n",
    "            ret.append(1)\n",
    "            return ret\n",
    "        \n",
    "        row = []\n",
    "        ret = []\n",
    "        if numRows == 1: \n",
    "            row.append(1)\n",
    "            ret.append(row)\n",
    "            return ret\n",
    "        elif numRows == 2: \n",
    "            row.append(1)\n",
    "            ret.append(row)\n",
    "            row = []\n",
    "            row.append(1)\n",
    "            row.append(1)\n",
    "            ret.append(row)\n",
    "            return ret\n",
    "        else:\n",
    "            ret.append([1])\n",
    "            last = row\n",
    "            r = []\n",
    "            for i in range(2,numRows+1):\n",
    "                r = genRows(last)\n",
    "                ret.append(r)\n",
    "                last = r\n",
    "        return ret\n",
    "\n",
    "\n",
    "            "
   ]
  },
  {
   "cell_type": "code",
   "execution_count": 3,
   "metadata": {},
   "outputs": [
    {
     "data": {
      "text/plain": [
       "[[1],\n",
       " [1, 1],\n",
       " [1, 2, 1],\n",
       " [1, 3, 3, 1],\n",
       " [1, 4, 6, 4, 1],\n",
       " [1, 5, 10, 10, 5, 1],\n",
       " [1, 6, 15, 20, 15, 6, 1],\n",
       " [1, 7, 21, 35, 35, 21, 7, 1],\n",
       " [1, 8, 28, 56, 70, 56, 28, 8, 1],\n",
       " [1, 9, 36, 84, 126, 126, 84, 36, 9, 1]]"
      ]
     },
     "execution_count": 3,
     "metadata": {},
     "output_type": "execute_result"
    }
   ],
   "source": [
    "Solution().generate(10)"
   ]
  },
  {
   "cell_type": "code",
   "execution_count": null,
   "metadata": {},
   "outputs": [],
   "source": []
  }
 ],
 "metadata": {
  "kernelspec": {
   "display_name": "Python 3",
   "language": "python",
   "name": "python3"
  },
  "language_info": {
   "codemirror_mode": {
    "name": "ipython",
    "version": 3
   },
   "file_extension": ".py",
   "mimetype": "text/x-python",
   "name": "python",
   "nbconvert_exporter": "python",
   "pygments_lexer": "ipython3",
   "version": "3.6.5"
  }
 },
 "nbformat": 4,
 "nbformat_minor": 2
}
