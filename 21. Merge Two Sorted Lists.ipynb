{
 "cells": [
  {
   "cell_type": "markdown",
   "metadata": {},
   "source": [
    "21. Merge Two Sorted Lists"
   ]
  },
  {
   "cell_type": "markdown",
   "metadata": {},
   "source": [
    "链表合并,因为是单链表，所以一定要尾插:\n",
    "```sh\n",
    "Input: 1->2->4, 1->3->4\n",
    "Output: 1->1->2->3->4->4\n",
    "```"
   ]
  },
  {
   "cell_type": "markdown",
   "metadata": {},
   "source": [
    "```c\n",
    "/**\n",
    " * Definition for singly-linked list.\n",
    " * struct ListNode {\n",
    " *     int val;\n",
    " *     ListNode *next;\n",
    " *     ListNode(int x) : val(x), next(NULL) {}\n",
    " * };\n",
    " */\n",
    "//只能尾插\n",
    "void tail_inserter(ListNode** head, ListNode** tail, int val)\n",
    "{\n",
    "    ListNode *tmp = new ListNode(val);   \n",
    "    if(*head == nullptr) {\n",
    "        *head = *tail = tmp;\n",
    "    } else {  \n",
    "        (*tail)->next = tmp;\n",
    "        (*tail) = tmp;\n",
    "    }   \n",
    "}\n",
    "\n",
    "class Solution {\n",
    "public:\n",
    "    ListNode* mergeTwoLists(ListNode* l1, ListNode* l2) {\n",
    "    \n",
    "        ListNode* head = nullptr;\n",
    "        ListNode* tail = nullptr;\n",
    "        while(l1 && l2) {\n",
    "            if(l1->val < l2->val) {\n",
    "                tail_inserter(&head,&tail,l1->val);\n",
    "                l1 = l1->next;\n",
    "            } else {\n",
    "                tail_inserter(&head,&tail,l2->val);\n",
    "                l2 = l2->next;\n",
    "            }\n",
    "        }\n",
    "        \n",
    "        while(l1) {\n",
    "            tail_inserter(&head,&tail,l1->val);\n",
    "            l1 = l1->next; \n",
    "        }\n",
    "        while(l2) {\n",
    "            tail_inserter(&head,&tail,l2->val);\n",
    "            l2 = l2->next; \n",
    "        }\n",
    "        return head;\n",
    "    }\n",
    "};\n",
    "```"
   ]
  },
  {
   "cell_type": "code",
   "execution_count": null,
   "metadata": {},
   "outputs": [],
   "source": []
  }
 ],
 "metadata": {
  "kernelspec": {
   "display_name": "Python 3",
   "language": "python",
   "name": "python3"
  },
  "language_info": {
   "codemirror_mode": {
    "name": "ipython",
    "version": 3
   },
   "file_extension": ".py",
   "mimetype": "text/x-python",
   "name": "python",
   "nbconvert_exporter": "python",
   "pygments_lexer": "ipython3",
   "version": "3.6.5"
  },
  "toc": {
   "base_numbering": 1,
   "nav_menu": {},
   "number_sections": true,
   "sideBar": true,
   "skip_h1_title": false,
   "title_cell": "Table of Contents",
   "title_sidebar": "Contents",
   "toc_cell": false,
   "toc_position": {},
   "toc_section_display": true,
   "toc_window_display": false
  }
 },
 "nbformat": 4,
 "nbformat_minor": 2
}
