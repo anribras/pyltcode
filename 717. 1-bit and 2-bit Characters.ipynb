{
 "cells": [
  {
   "cell_type": "markdown",
   "metadata": {},
   "source": [
    "\n",
    "```\n",
    "We have two special characters. The first character can be represented by one bit 0. The second character can be represented by two bits (10 or 11).\n",
    "\n",
    "Now given a string represented by several bits. Return whether the last character must be a one-bit character or not. The given string will always end with a zero.\n",
    "\n",
    "Example 1:\n",
    "Input: \n",
    "bits = [1, 0, 0]\n",
    "Output: True\n",
    "Explanation: \n",
    "The only way to decode it is two-bit character and one-bit character. So the last character is one-bit character.\n",
    "Example 2:\n",
    "Input: \n",
    "bits = [1, 1, 1, 0]\n",
    "Output: False\n",
    "\n",
    "bits = [1, 0, 1, 1, 0]\n",
    "Output: True\n",
    "\n",
    "bits = [0, 1, 0, 1, 1, 0]\n",
    "Output: True\n",
    "Explanation: \n",
    "The only way to decode it is two-bit character and two-bit character. So the last character is NOT one-bit character.\n",
    "```"
   ]
  },
  {
   "cell_type": "markdown",
   "metadata": {},
   "source": [
    "```\n",
    "从头扫描到n-1:\n",
    "    if 0:  忽略\n",
    "        n+=1\n",
    "    if 1: \n",
    "        n+=2\n",
    "最后看n到哪了: if n == lens - 1 , 前面刚好成对,最后1个0 必然是single char ,其余情况则是配对的, 最后1个必然是1,0\n",
    "```"
   ]
  },
  {
   "cell_type": "code",
   "execution_count": 1,
   "metadata": {},
   "outputs": [],
   "source": [
    "class Solution:\n",
    "    def isOneBitCharacter(self, bits):\n",
    "        \"\"\"\n",
    "        :type bits: List[int]\n",
    "        :rtype: bool\n",
    "        \"\"\"\n",
    "        lens = len(bits)\n",
    "        if bits[lens-2] is 0: return True\n",
    "        n  = 0\n",
    "        while n < (lens -1):\n",
    "            if bits[n] == 0:\n",
    "                n+=1\n",
    "            if bits[n] == 1:\n",
    "                n+=2\n",
    "        print(n)\n",
    "        if n == (lens - 1): return True\n",
    "        else : return False"
   ]
  },
  {
   "cell_type": "code",
   "execution_count": 2,
   "metadata": {},
   "outputs": [
    {
     "data": {
      "text/plain": [
       "True"
      ]
     },
     "execution_count": 2,
     "metadata": {},
     "output_type": "execute_result"
    }
   ],
   "source": [
    "Solution().isOneBitCharacter([1, 0, 0])"
   ]
  },
  {
   "cell_type": "code",
   "execution_count": 3,
   "metadata": {},
   "outputs": [
    {
     "name": "stdout",
     "output_type": "stream",
     "text": [
      "4\n"
     ]
    },
    {
     "data": {
      "text/plain": [
       "False"
      ]
     },
     "execution_count": 3,
     "metadata": {},
     "output_type": "execute_result"
    }
   ],
   "source": [
    "Solution().isOneBitCharacter([1, 1, 1, 0])"
   ]
  },
  {
   "cell_type": "code",
   "execution_count": null,
   "metadata": {},
   "outputs": [],
   "source": []
  }
 ],
 "metadata": {
  "kernelspec": {
   "display_name": "Python 3",
   "language": "python",
   "name": "python3"
  },
  "language_info": {
   "codemirror_mode": {
    "name": "ipython",
    "version": 3
   },
   "file_extension": ".py",
   "mimetype": "text/x-python",
   "name": "python",
   "nbconvert_exporter": "python",
   "pygments_lexer": "ipython3",
   "version": "3.6.5"
  }
 },
 "nbformat": 4,
 "nbformat_minor": 2
}
