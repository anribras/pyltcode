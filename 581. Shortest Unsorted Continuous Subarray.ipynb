{
 "cells": [
  {
   "cell_type": "markdown",
   "metadata": {},
   "source": [
    "```\n",
    "Given an integer array, you need to find one continuous subarray that if you only sort this subarray in ascending order, then the whole array will be sorted in ascending order, too.\n",
    "\n",
    "You need to find the shortest such subarray and output its length.\n",
    "\n",
    "Example 1:\n",
    "Input: [2, 6, 4, 8, 10, 9, 15]\n",
    "Output: 5\n",
    "Explanation: You need to sort [6, 4, 8, 10, 9] in ascending order to make the whole array sorted in ascending order.\n",
    "Note:\n",
    "Then length of the input array is in range [1, 10,000].\n",
    "The input array may contain duplicates, so ascending order here means <=.\n",
    "```"
   ]
  },
  {
   "cell_type": "markdown",
   "metadata": {},
   "source": [
    "\n",
    "1. 找1个子序列(m,n), 序列里的所有元素都大于等于m之前的元素 小于等于n之后的元素 \n",
    "2. a[:m]是递增的\n",
    "3. a[n:]是递减的\n",
    "4. 找出n-m+1的最小值\n",
    "5. a[m:n]的最小值 必须大于"
   ]
  },
  {
   "cell_type": "markdown",
   "metadata": {},
   "source": [
    "从start出发,找到下降的点\n",
    "从end出发找到递增的点"
   ]
  },
  {
   "cell_type": "code",
   "execution_count": 70,
   "metadata": {},
   "outputs": [],
   "source": [
    "import bisect\n",
    "class Solution:\n",
    "    def findUnsortedSubarray(self, nums):\n",
    "        \"\"\"\n",
    "        :type nums: List[int]\n",
    "        :rtype: int\n",
    "        \"\"\"\n",
    "        _n=n=0\n",
    "        l=len(nums)\n",
    "        _m=m=l-1\n",
    "        \n",
    "        mins=maxs=0\n",
    "        # 找到两端转折点\n",
    "        while(n< l-1):\n",
    "            if nums[n+1] < nums[n]: break\n",
    "            n+=1\n",
    "        while(m > 1):\n",
    "            if nums[m-1] > nums[m]: break\n",
    "            m-=1  \n",
    "        print('m=%s n=%d'%(m,n))\n",
    "            \n",
    "        if m <= n: return 0\n",
    "        else:\n",
    "            # 计算中间这端子序列的最值\n",
    "            mins = min(nums[n:m+1])\n",
    "            maxs = max(nums[n:m+1])\n",
    "            print('mins=%d maxs=%d'%(mins,maxs))\n",
    "            # 找到最小值,在前面上升子序列中的位置,靠右\n",
    "            _n = bisect.bisect_right(nums[:n],mins)\n",
    "            _m = bisect.bisect_left(nums[m+1:],maxs)+m\n",
    "            # 最大值同理\n",
    "            print('_n=%d _m=%d'%(_n,_m))\n",
    "            \n",
    "        # 返回修正的值\n",
    "        n = n if _n - n <=1 else _n + 1\n",
    "        m = m if m - _m <=1 else _m - 1\n",
    "        print('m %d n %d'%(m,n))\n",
    "        return m-n+1\n",
    "        "
   ]
  },
  {
   "cell_type": "code",
   "execution_count": 71,
   "metadata": {},
   "outputs": [
    {
     "name": "stdout",
     "output_type": "stream",
     "text": [
      "m=5 n=1\n",
      "mins=4 maxs=10\n",
      "_n=1 _m=5\n",
      "m 5 n 1\n"
     ]
    },
    {
     "data": {
      "text/plain": [
       "5"
      ]
     },
     "execution_count": 71,
     "metadata": {},
     "output_type": "execute_result"
    }
   ],
   "source": [
    "Solution().findUnsortedSubarray([2, 6, 4, 8, 10, 9, 15])"
   ]
  },
  {
   "cell_type": "code",
   "execution_count": 72,
   "metadata": {},
   "outputs": [
    {
     "name": "stdout",
     "output_type": "stream",
     "text": [
      "m=1 n=4\n"
     ]
    },
    {
     "data": {
      "text/plain": [
       "0"
      ]
     },
     "execution_count": 72,
     "metadata": {},
     "output_type": "execute_result"
    }
   ],
   "source": [
    "Solution().findUnsortedSubarray([1,2,3,4,5])"
   ]
  },
  {
   "cell_type": "code",
   "execution_count": null,
   "metadata": {},
   "outputs": [],
   "source": []
  },
  {
   "cell_type": "code",
   "execution_count": 73,
   "metadata": {},
   "outputs": [
    {
     "name": "stdout",
     "output_type": "stream",
     "text": [
      "m=3 n=2\n",
      "mins=1 maxs=3\n",
      "_n=1 _m=4\n",
      "m 3 n 2\n"
     ]
    },
    {
     "data": {
      "text/plain": [
       "2"
      ]
     },
     "execution_count": 73,
     "metadata": {},
     "output_type": "execute_result"
    }
   ],
   "source": [
    "Solution().findUnsortedSubarray([1,2,3,1,2,99,100]) "
   ]
  },
  {
   "cell_type": "markdown",
   "metadata": {},
   "source": [
    "要是用蛮力,不行啊...巧妙的弄法... 先排序,找差异,看FALSE序列的长度就好!"
   ]
  },
  {
   "cell_type": "code",
   "execution_count": 58,
   "metadata": {},
   "outputs": [],
   "source": [
    "\n",
    "def findUnsortedSubarray(self, nums):\n",
    "        is_same = [a == b for a, b in zip(nums, sorted(nums))]\n",
    "        return 0 if all(is_same) else len(nums) - is_same.index(False) - is_same[::-1].index(False)"
   ]
  },
  {
   "cell_type": "code",
   "execution_count": null,
   "metadata": {},
   "outputs": [],
   "source": []
  }
 ],
 "metadata": {
  "kernelspec": {
   "display_name": "Python 3",
   "language": "python",
   "name": "python3"
  },
  "language_info": {
   "codemirror_mode": {
    "name": "ipython",
    "version": 3
   },
   "file_extension": ".py",
   "mimetype": "text/x-python",
   "name": "python",
   "nbconvert_exporter": "python",
   "pygments_lexer": "ipython3",
   "version": "3.6.5"
  },
  "toc": {
   "base_numbering": 1,
   "nav_menu": {},
   "number_sections": true,
   "sideBar": true,
   "skip_h1_title": false,
   "title_cell": "Table of Contents",
   "title_sidebar": "Contents",
   "toc_cell": false,
   "toc_position": {},
   "toc_section_display": true,
   "toc_window_display": false
  }
 },
 "nbformat": 4,
 "nbformat_minor": 2
}
