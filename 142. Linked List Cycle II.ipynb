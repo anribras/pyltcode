{
 "cells": [
  {
   "cell_type": "markdown",
   "metadata": {},
   "source": [
    "```\n",
    "Given a linked list, return the node where the cycle begins. If there is no cycle, return null.\n",
    "\n",
    "To represent a cycle in the given linked list, we use an integer pos which represents the position (0-indexed) in the linked list where tail connects to. If pos is -1, then there is no cycle in the linked list.\n",
    "\n",
    "Note: Do not modify the linked list.\n",
    "\n",
    " \n",
    "\n",
    "Example 1:\n",
    "\n",
    "Input: head = [3,2,0,-4], pos = 1\n",
    "Output: tail connects to node index 1\n",
    "Explanation: There is a cycle in the linked list, where tail connects to the second node.\n",
    "\n",
    "\n",
    "Example 2:\n",
    "\n",
    "Input: head = [1,2], pos = 0\n",
    "Output: tail connects to node index 0\n",
    "Explanation: There is a cycle in the linked list, where tail connects to the first node.\n",
    "\n",
    "\n",
    "Example 3:\n",
    "\n",
    "Input: head = [1], pos = -1\n",
    "Output: no cycle\n",
    "Explanation: There is no cycle in the linked list.\n",
    "\n",
    "\n",
    " \n",
    "\n",
    "Follow up:\n",
    "Can you solve it without using extra space?\n",
    "```"
   ]
  },
  {
   "cell_type": "markdown",
   "metadata": {},
   "source": [
    "快慢指针的思想! 一块一慢,总会遇到:\n",
    "    \n",
    "```\n",
    "这道题是寻找一个链表里有没有循环。快指针每次.next.next，慢指针.next，用了try...except，如果是有cycle的话，慢指针和快指针总会遇到，于是返回true。\n",
    "\n",
    "如果没有（except），返回false\n",
    "\n",
    "```"
   ]
  },
  {
   "cell_type": "code",
   "execution_count": 20,
   "metadata": {},
   "outputs": [],
   "source": [
    "# Definition for singly-linked list.\n",
    "class ListNode(object):\n",
    "    def __init__(self, x):\n",
    "        self.val = x\n",
    "        self.next = None\n",
    "\n",
    "class Solution(object):\n",
    "    def detectCycle(self, head):\n",
    "        \"\"\"\n",
    "        :type head: ListNode\n",
    "        :rtype: ListNode\n",
    "        \"\"\"\n",
    "        slow = head\n",
    "        fast = head.next\n",
    "        if not slow or not fast: return False\n",
    "        while(slow != fast.next):\n",
    "            slow = slow.next\n",
    "            fast = fast.next.next\n",
    "            if not slow.next or not fast.next: return False\n",
    "        return True"
   ]
  },
  {
   "cell_type": "code",
   "execution_count": 21,
   "metadata": {},
   "outputs": [],
   "source": [
    "head = ListNode(3)\n",
    "l1 = ListNode(2)\n",
    "l2 = ListNode(0)\n",
    "l3 = ListNode(-4)\n",
    "\n",
    "head.next = l1\n",
    "l1.next =l2\n",
    "l2.next =l3\n",
    "l3.next = l1"
   ]
  },
  {
   "cell_type": "code",
   "execution_count": 19,
   "metadata": {},
   "outputs": [
    {
     "data": {
      "text/plain": [
       "True"
      ]
     },
     "execution_count": 19,
     "metadata": {},
     "output_type": "execute_result"
    }
   ],
   "source": [
    "Solution().detectCycle(head)"
   ]
  },
  {
   "cell_type": "markdown",
   "metadata": {},
   "source": [
    "不能过? 看来linkedlist还是上c++"
   ]
  },
  {
   "cell_type": "markdown",
   "metadata": {},
   "source": [
    "```c++\n",
    " ListNode *detectCycle(ListNode *head) {\n",
    "        ListNode *slow=head,*fast=head;\n",
    "        \n",
    "        while(slow!=NULL && fast!=NULL && fast->next!=NULL) {\n",
    "            \n",
    "            slow = slow->next;               //Slow moves by 1 step\n",
    "            fast = fast->next->next;        //Fast moves by two steps\n",
    "            \n",
    "            //If they meet then there is a loop\n",
    "            if(slow==fast) \n",
    "            {\n",
    "                //To find the starting element where the loop starts\n",
    "                fast = fast;\n",
    "                slow = head;\n",
    "                while(slow!=fast) \n",
    "                {\n",
    "                    //Both move by 1 step\n",
    "                    slow = slow->next;\n",
    "                    fast=fast->next;\n",
    "                }\n",
    "                return slow;\n",
    "                \n",
    "            }\n",
    " \n",
    "        }\n",
    "        \n",
    "        return NULL; //No loop\n",
    "    }\n",
    "```"
   ]
  },
  {
   "cell_type": "code",
   "execution_count": 30,
   "metadata": {},
   "outputs": [],
   "source": [
    "class Node:\n",
    "    def __init__(self,v,n=None):\n",
    "        self.val = v\n",
    "        self.next = n\n",
    "        \n",
    "class Solution:\n",
    "    def isCycleLinkedList(self,a):\n",
    "        if not a or not a.next: return False\n",
    "        fast = slow = a\n",
    "        while(True):\n",
    "            try:\n",
    "                fast = fast.next.next\n",
    "            except Exception as e:\n",
    "                return False\n",
    "            slow = slow.next\n",
    "            if slow == fast:\n",
    "                return True\n",
    "        print(fast,slow)\n",
    "        return True\n",
    "    def findCycleLength(self,a):\n",
    "        # 第1次相遇的地方 slow 回退到head, fast变成1步的slow.\n",
    "        # fast slow相遇的位置就是环的起点\n",
    "        "
   ]
  },
  {
   "cell_type": "code",
   "execution_count": 39,
   "metadata": {},
   "outputs": [],
   "source": [
    "head = Node(3)\n",
    "l1 = Node(2)\n",
    "l2 = Node(0)\n",
    "l3 = Node(-4)\n",
    "\n",
    "head.next = l1\n",
    "l1.next =l2\n",
    "l2.next =l3\n",
    "l3.next = None"
   ]
  },
  {
   "cell_type": "code",
   "execution_count": 40,
   "metadata": {},
   "outputs": [
    {
     "data": {
      "text/plain": [
       "False"
      ]
     },
     "execution_count": 40,
     "metadata": {},
     "output_type": "execute_result"
    }
   ],
   "source": [
    "Solution().isCycleLinkedList(head)"
   ]
  },
  {
   "cell_type": "code",
   "execution_count": null,
   "metadata": {},
   "outputs": [],
   "source": []
  }
 ],
 "metadata": {
  "kernelspec": {
   "display_name": "Python 3",
   "language": "python",
   "name": "python3"
  },
  "language_info": {
   "codemirror_mode": {
    "name": "ipython",
    "version": 3
   },
   "file_extension": ".py",
   "mimetype": "text/x-python",
   "name": "python",
   "nbconvert_exporter": "python",
   "pygments_lexer": "ipython3",
   "version": "3.6.5"
  },
  "toc": {
   "base_numbering": 1,
   "nav_menu": {},
   "number_sections": true,
   "sideBar": true,
   "skip_h1_title": false,
   "title_cell": "Table of Contents",
   "title_sidebar": "Contents",
   "toc_cell": false,
   "toc_position": {},
   "toc_section_display": true,
   "toc_window_display": false
  }
 },
 "nbformat": 4,
 "nbformat_minor": 2
}
