{
 "cells": [
  {
   "cell_type": "markdown",
   "metadata": {},
   "source": [
    "```\n",
    "Given a 2D integer matrix M representing the gray scale of an image, you need to design a smoother to make the gray scale of each cell becomes the average gray scale (rounding down) of all the 8 surrounding cells and itself. If a cell has less than 8 surrounding cells, then use as many as you can.\n",
    "\n",
    "Example 1:\n",
    "Input:\n",
    "[[1,1,1],\n",
    " [1,0,1],\n",
    " [1,1,1]]\n",
    "Output:\n",
    "[[0, 0, 0],\n",
    " [0, 0, 0],\n",
    " [0, 0, 0]]\n",
    "Explanation:\n",
    "For the point (0,0), (0,2), (2,0), (2,2): floor(3/4) = floor(0.75) = 0\n",
    "For the point (0,1), (1,0), (1,2), (2,1): floor(5/6) = floor(0.83333333) = 0\n",
    "For the point (1,1): floor(8/9) = floor(0.88888889) = 0\n",
    "Note:\n",
    "The value in the given matrix is in the range of [0, 255].\n",
    "The length and width of the given matrix are in the range of [1, 150].\n",
    "\n",
    "```"
   ]
  },
  {
   "cell_type": "markdown",
   "metadata": {},
   "source": [
    "周边加一圈0 , padding的思想, so easy.."
   ]
  },
  {
   "cell_type": "markdown",
   "metadata": {},
   "source": [
    "```\n",
    "思路就是padding, 但是tricky的是用-1来padding ,完美防止与0的冲突..\n",
    "```"
   ]
  },
  {
   "cell_type": "code",
   "execution_count": 2,
   "metadata": {},
   "outputs": [],
   "source": [
    "from math import floor\n",
    "class Solution:\n",
    "    def imageSmoother(self, M):\n",
    "        \"\"\"\n",
    "        :type M: List[List[int]]\n",
    "        :rtype: List[List[int]]\n",
    "        \"\"\"\n",
    "        import copy \n",
    "        ret = copy.deepcopy(M)\n",
    "        row = len(M)\n",
    "        col = len(M[0])\n",
    "        new_row,new_col = row+2,col+2\n",
    "        flag = -1\n",
    "        z_row = [-1 for i in range(0,new_col)]\n",
    "        for i in M:\n",
    "            i.insert(0,-1)\n",
    "            i.append(-1)\n",
    "        M.insert(0,z_row)\n",
    "        M.append(z_row)\n",
    "#         print(M)\n",
    "        for i in range(1,new_row -1):\n",
    "            for j in range(1,new_col-1):\n",
    "                \n",
    "                ceils = [ M[i][j] , M[i+1][j] , M[i-1][j] ,\n",
    "                         M[i][j+1] , M[i][j-1] , M[i+1][j+1] ,\n",
    "                         M[i-1][j-1] , M[i+1][j-1] , M[i-1][j+1] ]\n",
    "                miss = ceils.count(flag)\n",
    "                # ave is different !\n",
    "#                 print(9-miss)\n",
    "                ret[i-1][j-1] = floor ( (sum(ceils) + miss) / (9-miss)) \n",
    "        return ret"
   ]
  },
  {
   "cell_type": "code",
   "execution_count": 3,
   "metadata": {},
   "outputs": [
    {
     "data": {
      "text/plain": [
       "[[0, 0, 0], [0, 0, 0], [0, 0, 0]]"
      ]
     },
     "execution_count": 3,
     "metadata": {},
     "output_type": "execute_result"
    }
   ],
   "source": [
    "Solution().imageSmoother([[1,1,1],[1,0,1],[1,1,1]])"
   ]
  },
  {
   "cell_type": "code",
   "execution_count": 4,
   "metadata": {},
   "outputs": [
    {
     "data": {
      "text/plain": [
       "[[4, 4, 5], [5, 6, 6], [8, 9, 9], [11, 12, 12], [13, 13, 14]]"
      ]
     },
     "execution_count": 4,
     "metadata": {},
     "output_type": "execute_result"
    }
   ],
   "source": [
    "Solution().imageSmoother([[2,3,4],[5,6,7],[8,9,10],[11,12,13],[14,15,16]])"
   ]
  },
  {
   "cell_type": "code",
   "execution_count": null,
   "metadata": {},
   "outputs": [],
   "source": []
  }
 ],
 "metadata": {
  "kernelspec": {
   "display_name": "Python 3",
   "language": "python",
   "name": "python3"
  },
  "language_info": {
   "codemirror_mode": {
    "name": "ipython",
    "version": 3
   },
   "file_extension": ".py",
   "mimetype": "text/x-python",
   "name": "python",
   "nbconvert_exporter": "python",
   "pygments_lexer": "ipython3",
   "version": "3.6.5"
  }
 },
 "nbformat": 4,
 "nbformat_minor": 2
}
