{
 "cells": [
  {
   "cell_type": "markdown",
   "metadata": {},
   "source": [
    "```\n",
    "Given m arrays, and each array is sorted in ascending order. Now you can pick up two integers from two different arrays (each array picks one) and calculate the distance. We define the distance between two integers a and b to be their absolute difference |a-b|. Your task is to find the maximum distance.\n",
    "\n",
    "Example 1:\n",
    "\n",
    "Input: \n",
    "[[1,2,3],\n",
    " [4,5],\n",
    " [1,2,3]]\n",
    "Output: 4\n",
    "Explanation: \n",
    "One way to reach the maximum distance 4 is to pick 1 in the first or third array and pick 5 in the second array.\n",
    " \n",
    "\n",
    "Note:\n",
    "\n",
    "Each given array will have at least 1 number. There will be at least two non-empty arrays.\n",
    "The total number of the integers in all the m arrays will be in the range of [2, 10000].\n",
    "The integers in the m arrays will be in the range of [-10000, 10000].\n",
    "```"
   ]
  },
  {
   "cell_type": "markdown",
   "metadata": {},
   "source": [
    "思路:\n",
    "```\n",
    "很重要的条件是升序数组!\n",
    "\n",
    "最大值在a[-1]中, 最小值在a[0]上\n",
    "\n",
    "再考虑可能出现在1个数组上的情况:\n",
    "\n",
    "可以用新的dict存 heads tails\n",
    "\n",
    "\"100\":5 表示100这个元素出现在序列5上 \n",
    "可能重复的话 \"100\": [5,4,2]\n",
    "\n",
    "max_head = max(heads.keys())\n",
    "min_tail = min(tails.keys())\n",
    "\n",
    "\n",
    "\n",
    "\n",
    "```\n",
    "\n"
   ]
  },
  {
   "cell_type": "markdown",
   "metadata": {},
   "source": [
    "别人的解答:"
   ]
  },
  {
   "cell_type": "markdown",
   "metadata": {},
   "source": [
    "http://www.cnblogs.com/grandyang/p/7073343.html"
   ]
  },
  {
   "cell_type": "code",
   "execution_count": null,
   "metadata": {},
   "outputs": [],
   "source": [
    "a.pop()"
   ]
  },
  {
   "cell_type": "code",
   "execution_count": 46,
   "metadata": {},
   "outputs": [
    {
     "ename": "TypeError",
     "evalue": "unsupported operand type(s) for -: 'list' and 'int'",
     "output_type": "error",
     "traceback": [
      "\u001b[0;31m---------------------------------------------------------------------------\u001b[0m",
      "\u001b[0;31mTypeError\u001b[0m                                 Traceback (most recent call last)",
      "\u001b[0;32m<ipython-input-46-7dc840d649f4>\u001b[0m in \u001b[0;36m<module>\u001b[0;34m\u001b[0m\n\u001b[0;32m----> 1\u001b[0;31m \u001b[0;34m[\u001b[0m\u001b[0;36m1\u001b[0m\u001b[0;34m,\u001b[0m\u001b[0;36m2\u001b[0m\u001b[0;34m,\u001b[0m\u001b[0;36m3\u001b[0m\u001b[0;34m]\u001b[0m\u001b[0;34m-\u001b[0m\u001b[0;36m1\u001b[0m\u001b[0;34m\u001b[0m\u001b[0m\n\u001b[0m",
      "\u001b[0;31mTypeError\u001b[0m: unsupported operand type(s) for -: 'list' and 'int'"
     ]
    }
   ],
   "source": [
    "[1,2,3].po"
   ]
  },
  {
   "cell_type": "code",
   "execution_count": 43,
   "metadata": {},
   "outputs": [],
   "source": [
    "class Solution:\n",
    "    def maxDistanceArrays(self,nums):\n",
    "        \"\"\"\n",
    "        nums: List[List[int]]\n",
    "        \"\"\"\n",
    "        heads = {}\n",
    "        tails = {}\n",
    "        for row,sub in enumerate(nums):\n",
    "            if sub[0] not in heads.keys():\n",
    "                heads[sub[0]] = []\n",
    "            if sub[-1] not in tails.keys():\n",
    "                tails[sub[-1]]= []\n",
    "\n",
    "            heads[sub[0]].append(row)\n",
    "            tails[sub[-1]].append(row)\n",
    "        \n",
    "\n",
    "        mins = min([k for k in heads.keys()])\n",
    "        maxs = max([k for k in tails.keys()])\n",
    "        print(mins,maxs)\n",
    "        while(1):\n",
    "            \n",
    "            print('heads %s'%heads)\n",
    "            print('tails %s'%tails)\n",
    "            # if all mins and maxs all in the same row\n",
    "            r_mins,r_maxs = heads[mins],tails[maxs]\n",
    "            print(r_mins,r_maxs)\n",
    "\n",
    "            if len(r_mins) == r_mins.count(r_mins[0]) and \\\n",
    "                len(r_maxs) == r_mins.count(r_maxs[0]) and r_mins[0]==r_maxs[0]:\n",
    "                print('yes')\n",
    "#                 heads.pop(mins)\n",
    "#                 tails.pop(maxs)\n",
    "                dmax = dmin = 0\n",
    "                print('heads %s'%heads)\n",
    "                print('tails %s'%tails)\n",
    "                if not heads or not tails: break\n",
    "                    \n",
    "                # 比较谁的差距比较大\n",
    "                maxs_2 = min([k for k in tails.keys()])\n",
    "                mins_2 = min([k for k in heads.keys()])\n",
    "                print(mins_2,maxs_2)\n",
    "                dmax = maxs - maxs_2\n",
    "                dmin = mins_2 - mins\n",
    "                print(dmax,dmin)\n",
    "                if dmax <= dmin:\n",
    "                    maxs = maxs_2\n",
    "                else:\n",
    "                    mins = mins_2\n",
    "                print('new %d %d'%(mins,maxs))\n",
    "\n",
    "            else:\n",
    "                # found it\n",
    "                print('no?')\n",
    "                break\n",
    "\n",
    "\n",
    "            \n",
    "        return abs(maxs-mins)\n",
    "                    \n",
    "                \n",
    "            \n",
    "            "
   ]
  },
  {
   "cell_type": "code",
   "execution_count": 39,
   "metadata": {},
   "outputs": [
    {
     "name": "stdout",
     "output_type": "stream",
     "text": [
      "heads {1: [0, 2], 4: [1]}\n",
      "tails {3: [0, 2], 5: [1]}\n",
      "1 5\n",
      "[0, 2] [1]\n",
      "no?\n"
     ]
    },
    {
     "data": {
      "text/plain": [
       "4"
      ]
     },
     "execution_count": 39,
     "metadata": {},
     "output_type": "execute_result"
    }
   ],
   "source": [
    "Solution().maxDistanceArrays([[1,2,3],\n",
    " [4,5],\n",
    " [1,2,3]])"
   ]
  },
  {
   "cell_type": "code",
   "execution_count": 44,
   "metadata": {},
   "outputs": [
    {
     "name": "stdout",
     "output_type": "stream",
     "text": [
      "1 5\n",
      "heads {3: [0], 1: [1]}\n",
      "tails {3: [0], 5: [1]}\n",
      "[1] [1]\n",
      "yes\n",
      "heads {3: [0]}\n",
      "tails {3: [0]}\n",
      "3 3\n",
      "2 2\n",
      "new 1 3\n",
      "heads {3: [0]}\n",
      "tails {3: [0]}\n"
     ]
    },
    {
     "ename": "KeyError",
     "evalue": "1",
     "output_type": "error",
     "traceback": [
      "\u001b[0;31m---------------------------------------------------------------------------\u001b[0m",
      "\u001b[0;31mKeyError\u001b[0m                                  Traceback (most recent call last)",
      "\u001b[0;32m<ipython-input-44-6eebf6a760a2>\u001b[0m in \u001b[0;36m<module>\u001b[0;34m\u001b[0m\n\u001b[1;32m      1\u001b[0m Solution().maxDistanceArrays([[3,3,3,3,3],\n\u001b[0;32m----> 2\u001b[0;31m  [1,1,1,1,2,2,2,2,4,4,4,4,5,5,5,5]])\n\u001b[0m",
      "\u001b[0;32m<ipython-input-43-8e16d6dba3dd>\u001b[0m in \u001b[0;36mmaxDistanceArrays\u001b[0;34m(self, nums)\u001b[0m\n\u001b[1;32m     24\u001b[0m             \u001b[0mprint\u001b[0m\u001b[0;34m(\u001b[0m\u001b[0;34m'tails %s'\u001b[0m\u001b[0;34m%\u001b[0m\u001b[0mtails\u001b[0m\u001b[0;34m)\u001b[0m\u001b[0;34m\u001b[0m\u001b[0m\n\u001b[1;32m     25\u001b[0m             \u001b[0;31m# if all mins and maxs all in the same row\u001b[0m\u001b[0;34m\u001b[0m\u001b[0;34m\u001b[0m\u001b[0m\n\u001b[0;32m---> 26\u001b[0;31m             \u001b[0mr_mins\u001b[0m\u001b[0;34m,\u001b[0m\u001b[0mr_maxs\u001b[0m \u001b[0;34m=\u001b[0m \u001b[0mheads\u001b[0m\u001b[0;34m[\u001b[0m\u001b[0mmins\u001b[0m\u001b[0;34m]\u001b[0m\u001b[0;34m,\u001b[0m\u001b[0mtails\u001b[0m\u001b[0;34m[\u001b[0m\u001b[0mmaxs\u001b[0m\u001b[0;34m]\u001b[0m\u001b[0;34m\u001b[0m\u001b[0m\n\u001b[0m\u001b[1;32m     27\u001b[0m             \u001b[0mprint\u001b[0m\u001b[0;34m(\u001b[0m\u001b[0mr_mins\u001b[0m\u001b[0;34m,\u001b[0m\u001b[0mr_maxs\u001b[0m\u001b[0;34m)\u001b[0m\u001b[0;34m\u001b[0m\u001b[0m\n\u001b[1;32m     28\u001b[0m \u001b[0;34m\u001b[0m\u001b[0m\n",
      "\u001b[0;31mKeyError\u001b[0m: 1"
     ]
    }
   ],
   "source": [
    "Solution().maxDistanceArrays([[3,3,3,3,3],\n",
    " [1,1,1,1,2,2,2,2,4,4,4,4,5,5,5,5]])"
   ]
  },
  {
   "cell_type": "code",
   "execution_count": null,
   "metadata": {},
   "outputs": [],
   "source": []
  }
 ],
 "metadata": {
  "kernelspec": {
   "display_name": "Python 3",
   "language": "python",
   "name": "python3"
  },
  "language_info": {
   "codemirror_mode": {
    "name": "ipython",
    "version": 3
   },
   "file_extension": ".py",
   "mimetype": "text/x-python",
   "name": "python",
   "nbconvert_exporter": "python",
   "pygments_lexer": "ipython3",
   "version": "3.6.5"
  },
  "toc": {
   "base_numbering": 1,
   "nav_menu": {},
   "number_sections": true,
   "sideBar": true,
   "skip_h1_title": false,
   "title_cell": "Table of Contents",
   "title_sidebar": "Contents",
   "toc_cell": false,
   "toc_position": {},
   "toc_section_display": true,
   "toc_window_display": false
  }
 },
 "nbformat": 4,
 "nbformat_minor": 2
}
