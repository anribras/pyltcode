{
 "cells": [
  {
   "cell_type": "markdown",
   "metadata": {},
   "source": [
    "答案里实际是寻找最长的子串的长度，难度比标题的`寻找最长子串`要小一些"
   ]
  },
  {
   "cell_type": "code",
   "execution_count": 1,
   "metadata": {},
   "outputs": [],
   "source": [
    "def find_length_of_longest_unrepeated_sub_strings(strs):\n",
    "    maps = {}\n",
    "    start = 0\n",
    "    maxs = 0\n",
    "    for i,s in enumerate(strs):\n",
    "        # found repeat chr\n",
    "        if s in maps:\n",
    "            # start after the repeat chr position\n",
    "            start = maps[s] + 1 if maps[s] + 1 > start else start\n",
    "  \n",
    "        maps[s] = i    \n",
    "        lens  = i - start + 1\n",
    "        maxs = lens if lens > maxs else maxs\n",
    "    return maxs"
   ]
  },
  {
   "cell_type": "code",
   "execution_count": 2,
   "metadata": {},
   "outputs": [
    {
     "data": {
      "text/plain": [
       "3"
      ]
     },
     "execution_count": 2,
     "metadata": {},
     "output_type": "execute_result"
    }
   ],
   "source": [
    "find_length_of_longest_unrepeated_sub_strings('aaabbbbca')"
   ]
  },
  {
   "cell_type": "markdown",
   "metadata": {},
   "source": [
    "##  3. Longest  sub strings without repeat charactors"
   ]
  },
  {
   "cell_type": "code",
   "execution_count": 5,
   "metadata": {},
   "outputs": [],
   "source": [
    "def find_longest(strs):\n",
    "    start = end =0\n",
    "    maps = {}\n",
    "    pos = start\n",
    "    lens = 0\n",
    "    while pos !=  len(strs)-1:\n",
    "        maps[strs[pos]] = pos\n",
    "        nexts = pos +1\n",
    "        print(maps, pos,nexts)\n",
    "        while strs[nexts] not in maps.keys():\n",
    "            maps[strs[nexts]] = nexts\n",
    "            nexts += 1\n",
    "            # if every ch is unique in this check\n",
    "            if nexts == len(strs):\n",
    "                if len(strs)-pos > lens:\n",
    "                    return strs[pos:]\n",
    "                else:\n",
    "                    return strs[start:end+1]\n",
    "        print(maps, pos,nexts)\n",
    "        if len(maps) > lens: \n",
    "            #remember the start and end pos\n",
    "            lens = len(maps)\n",
    "            start = pos\n",
    "            end  = nexts -1\n",
    "            print('start=',start,'end=',end)\n",
    "        maps.clear()\n",
    "        pos = pos +1\n",
    "          \n",
    "    return strs[start:end+1]"
   ]
  },
  {
   "cell_type": "code",
   "execution_count": 6,
   "metadata": {},
   "outputs": [
    {
     "name": "stdout",
     "output_type": "stream",
     "text": [
      "{'a': 0} 0 1\n",
      "{'a': 0, 'b': 1, 'c': 2} 0 3\n",
      "start= 0 end= 2\n",
      "{'b': 1} 1 2\n",
      "{'b': 1, 'c': 2} 1 3\n",
      "{'c': 2} 2 3\n"
     ]
    },
    {
     "data": {
      "text/plain": [
       "'abc'"
      ]
     },
     "execution_count": 6,
     "metadata": {},
     "output_type": "execute_result"
    }
   ],
   "source": [
    "find_longest('abcb')"
   ]
  },
  {
   "cell_type": "code",
   "execution_count": 7,
   "metadata": {},
   "outputs": [
    {
     "name": "stdout",
     "output_type": "stream",
     "text": [
      "{'a': 0} 0 1\n",
      "{'a': 0} 0 1\n",
      "start= 0 end= 0\n",
      "{'a': 1} 1 2\n",
      "{'a': 1} 1 2\n",
      "{'a': 2} 2 3\n",
      "{'a': 2, 'b': 3} 2 4\n",
      "start= 2 end= 3\n",
      "{'b': 3} 3 4\n",
      "{'b': 3, 'a': 4} 3 5\n",
      "{'a': 4} 4 5\n",
      "{'a': 4} 4 5\n",
      "{'a': 5} 5 6\n",
      "{'a': 5} 5 6\n",
      "{'a': 6} 6 7\n",
      "{'a': 6, 'c': 7, 'b': 8} 6 9\n",
      "start= 6 end= 8\n",
      "{'c': 7} 7 8\n",
      "{'c': 7, 'b': 8} 7 9\n",
      "{'b': 8} 8 9\n",
      "{'b': 8} 8 9\n",
      "{'b': 9} 9 10\n",
      "{'b': 9} 9 10\n"
     ]
    },
    {
     "data": {
      "text/plain": [
       "'acb'"
      ]
     },
     "execution_count": 7,
     "metadata": {},
     "output_type": "execute_result"
    }
   ],
   "source": [
    "find_longest('aaabaaacbbb')"
   ]
  },
  {
   "cell_type": "code",
   "execution_count": null,
   "metadata": {},
   "outputs": [],
   "source": []
  }
 ],
 "metadata": {
  "kernelspec": {
   "display_name": "Python 3",
   "language": "python",
   "name": "python3"
  },
  "language_info": {
   "codemirror_mode": {
    "name": "ipython",
    "version": 3
   },
   "file_extension": ".py",
   "mimetype": "text/x-python",
   "name": "python",
   "nbconvert_exporter": "python",
   "pygments_lexer": "ipython3",
   "version": "3.6.5"
  }
 },
 "nbformat": 4,
 "nbformat_minor": 2
}
