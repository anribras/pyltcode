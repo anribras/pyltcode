{
 "cells": [
  {
   "cell_type": "markdown",
   "metadata": {},
   "source": [
    "```\n",
    "Given a binary matrix A, we want to flip the image horizontally, then invert it, and return the resulting image.\n",
    "\n",
    "To flip an image horizontally means that each row of the image is reversed.  For example, flipping [1, 1, 0] horizontally results in [0, 1, 1].\n",
    "\n",
    "To invert an image means that each 0 is replaced by 1, and each 1 is replaced by 0. For example, inverting [0, 1, 1] results in [1, 0, 0].\n",
    "\n",
    "Example 1:\n",
    "\n",
    "Input: [[1,1,0],[1,0,1],[0,0,0]]\n",
    "Output: [[1,0,0],[0,1,0],[1,1,1]]\n",
    "Explanation: First reverse each row: [[0,1,1],[1,0,1],[0,0,0]].\n",
    "Then, invert the image: [[1,0,0],[0,1,0],[1,1,1]]\n",
    "Example 2:\n",
    "\n",
    "Input: [[1,1,0,0],[1,0,0,1],[0,1,1,1],[1,0,1,0]]\n",
    "Output: [[1,1,0,0],[0,1,1,0],[0,0,0,1],[1,0,1,0]]\n",
    "Explanation: First reverse each row: [[0,0,1,1],[1,0,0,1],[1,1,1,0],[0,1,0,1]].\n",
    "Then invert the image: [[1,1,0,0],[0,1,1,0],[0,0,0,1],[1,0,1,0]]\n",
    "```"
   ]
  },
  {
   "cell_type": "code",
   "execution_count": 2,
   "metadata": {},
   "outputs": [],
   "source": [
    "class Solution:\n",
    "    def flipAndInvertImage(self, A):\n",
    "        \"\"\"\n",
    "        :type A: List[List[int]]\n",
    "        :rtype: List[List[int]]\n",
    "        \"\"\"\n",
    "        lens = len(A[0])\n",
    "        mid = lens // 2\n",
    "        for l in A:\n",
    "            end = lens\n",
    "            m = 0\n",
    "            if lens & 1:\n",
    "                while(m < mid):\n",
    "                    l[m],l[end-m-1] = l[end-m-1],l[m]\n",
    "                    l[m]^=1\n",
    "                    l[end-m-1]^=1\n",
    "                    m+=1\n",
    "                l[mid]^=1\n",
    "            else:\n",
    "                while(m < mid):\n",
    "                    l[m],l[end-m-1] = l[end-m-1],l[m]\n",
    "                    l[m]^=1\n",
    "                    l[end-m-1]^=1\n",
    "                    m+=1\n",
    "        return A\n",
    "                  "
   ]
  },
  {
   "cell_type": "code",
   "execution_count": null,
   "metadata": {},
   "outputs": [],
   "source": []
  }
 ],
 "metadata": {
  "kernelspec": {
   "display_name": "Python 3",
   "language": "python",
   "name": "python3"
  },
  "language_info": {
   "codemirror_mode": {
    "name": "ipython",
    "version": 3
   },
   "file_extension": ".py",
   "mimetype": "text/x-python",
   "name": "python",
   "nbconvert_exporter": "python",
   "pygments_lexer": "ipython3",
   "version": "3.6.5"
  }
 },
 "nbformat": 4,
 "nbformat_minor": 2
}
