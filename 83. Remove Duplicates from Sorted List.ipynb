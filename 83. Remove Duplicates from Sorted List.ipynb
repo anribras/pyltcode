{
 "cells": [
  {
   "cell_type": "markdown",
   "metadata": {},
   "source": [
    "```\n",
    "\n",
    "Input: 1->1->2\n",
    "Output: 1->2\n",
    "\n",
    "```"
   ]
  },
  {
   "cell_type": "code",
   "execution_count": 1,
   "metadata": {},
   "outputs": [],
   "source": [
    "def dumpList(p):\n",
    "    while(p.next != None):\n",
    "        print('%d '%(p.val))\n",
    "        p = p.next\n",
    "    print('%d '%(p.val))\n",
    "# Definition for singly-linked list.\n",
    "class ListNode:\n",
    "    def __init__(self, x):\n",
    "        self.val = x\n",
    "        self.next = None\n",
    "\n",
    "class Solution:\n",
    "    def deleteDuplicates(self, head):\n",
    "        \"\"\"\n",
    "        :type head: ListNode\n",
    "        :rtype: ListNode\n",
    "        \"\"\"\n",
    "        p=head\n",
    "        nexts=None\n",
    "        if p.next ==None: return head\n",
    "        while(p.next != None ):\n",
    "            \n",
    "            while p.val == p.next.val:\n",
    "                nexts= p.next\n",
    "                if nexts == None :\n",
    "                    break\n",
    "                if nexts.next != None: \n",
    "                    p.next = nexts.next\n",
    "                    nexts = nexts.next\n",
    "                else:\n",
    "                    p.next =None\n",
    "                    break\n",
    "                    \n",
    "            if p.next != None:\n",
    "                p = p.next\n",
    "            else:\n",
    "                break\n",
    "            \n",
    "        return head"
   ]
  },
  {
   "cell_type": "code",
   "execution_count": 2,
   "metadata": {},
   "outputs": [
    {
     "name": "stdout",
     "output_type": "stream",
     "text": [
      "1 \n",
      "1 \n",
      "2 \n",
      "2 \n",
      "3 \n",
      "3 \n"
     ]
    }
   ],
   "source": [
    "head  = p  = ListNode(1)\n",
    "p.next =  ListNode(1)\n",
    "p = p.next\n",
    "p.next =  ListNode(2)\n",
    "p = p.next\n",
    "\n",
    "p.next =  ListNode(2)\n",
    "p = p.next\n",
    "\n",
    "p.next =  ListNode(3)\n",
    "p = p.next\n",
    "p.next =  ListNode(3)\n",
    "\n",
    "dumpList(head)"
   ]
  },
  {
   "cell_type": "code",
   "execution_count": null,
   "metadata": {},
   "outputs": [],
   "source": []
  },
  {
   "cell_type": "markdown",
   "metadata": {},
   "source": [
    "```c\n",
    "//83. Remove Duplicates from Sorted List\n",
    "/**\n",
    " * Definition for singly-linked list.\n",
    " * struct ListNode {\n",
    " *     int val;\n",
    " *     ListNode *next;\n",
    " *     ListNode(int x) : val(x), next(NULL) {}\n",
    " * };\n",
    " */\n",
    "//1->1->1->2->2->2->3\n",
    "\n",
    "class Solution {\n",
    "public:\n",
    "    ListNode* deleteDuplicates(ListNode* head) {\n",
    "       if(head == nullptr) return head;\n",
    "        ListNode* tmp = head->next;\n",
    "        ListNode* flag = head;\n",
    "        while(tmp) {\n",
    "            \n",
    "            //flag指向最后1个不重复的元素\n",
    "            if(flag->val == tmp->val) {\n",
    "                flag->next =  tmp->next;\n",
    "            } else {\n",
    "                flag = tmp;\n",
    "            }\n",
    "            \n",
    "            tmp = tmp->next;\n",
    "           \n",
    "        }\n",
    "        \n",
    "        return head;\n",
    "                \n",
    "    }\n",
    "};\n",
    "```"
   ]
  },
  {
   "cell_type": "code",
   "execution_count": null,
   "metadata": {},
   "outputs": [],
   "source": []
  }
 ],
 "metadata": {
  "kernelspec": {
   "display_name": "Python 3",
   "language": "python",
   "name": "python3"
  },
  "language_info": {
   "codemirror_mode": {
    "name": "ipython",
    "version": 3
   },
   "file_extension": ".py",
   "mimetype": "text/x-python",
   "name": "python",
   "nbconvert_exporter": "python",
   "pygments_lexer": "ipython3",
   "version": "3.6.5"
  },
  "toc": {
   "base_numbering": 1,
   "nav_menu": {},
   "number_sections": true,
   "sideBar": true,
   "skip_h1_title": false,
   "title_cell": "Table of Contents",
   "title_sidebar": "Contents",
   "toc_cell": false,
   "toc_position": {},
   "toc_section_display": true,
   "toc_window_display": false
  }
 },
 "nbformat": 4,
 "nbformat_minor": 2
}
