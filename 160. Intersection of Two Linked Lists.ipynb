{
 "cells": [
  {
   "cell_type": "markdown",
   "metadata": {},
   "source": [
    "160. Intersection of Two Linked Lists"
   ]
  },
  {
   "cell_type": "markdown",
   "metadata": {},
   "source": [
    "1. 双指针法\n",
    "2. hashtable法"
   ]
  },
  {
   "cell_type": "markdown",
   "metadata": {},
   "source": [
    "```c\n",
    "/**\n",
    " * Definition for singly-linked list.\n",
    " * struct ListNode {\n",
    " *     int val;\n",
    " *     ListNode *next;\n",
    " *     ListNode(int x) : val(x), next(NULL) {}\n",
    " * };\n",
    " */\n",
    "#include <set>\n",
    "using namespace std;\n",
    "\n",
    "class Solution {\n",
    "public:\n",
    "    ListNode *_getIntersectionNode(ListNode *headA, ListNode *headB) {\n",
    "        if(!headA || !headB) return nullptr;\n",
    "        auto curA = headA;\n",
    "        auto curB =headB;\n",
    "        //a结束切换到b,b结束切换到a.\n",
    "        //相等要么是交叉，要么是同时为空.\n",
    "        while(curA != curB) {\n",
    "            curA = curA?curA->next:headA;\n",
    "            curB = curB?curB->next:headB; \n",
    "        }\n",
    "        \n",
    "        return curA;\n",
    "        \n",
    "    }\n",
    "    ListNode *getIntersectionNode(ListNode *headA, ListNode *headB) {\n",
    "        if(!headA || !headB) return nullptr;\n",
    "        auto curA = headA;\n",
    "        auto curB =headB;\n",
    "        set<ListNode*> unique;\n",
    "        while(curA) {\n",
    "            unique.insert(curA);\n",
    "            curA=curA->next;\n",
    "        }\n",
    "        while(curB) {\n",
    "            if(unique.find(curB) != end(unique)) {\n",
    "                return curB;\n",
    "            }\n",
    "            curB = curB->next;\n",
    "        }\n",
    "        \n",
    "        return nullptr;\n",
    "        \n",
    "    }\n",
    "};\n",
    "```"
   ]
  },
  {
   "cell_type": "code",
   "execution_count": null,
   "metadata": {},
   "outputs": [],
   "source": []
  }
 ],
 "metadata": {
  "kernelspec": {
   "display_name": "Python 3",
   "language": "python",
   "name": "python3"
  },
  "language_info": {
   "codemirror_mode": {
    "name": "ipython",
    "version": 3
   },
   "file_extension": ".py",
   "mimetype": "text/x-python",
   "name": "python",
   "nbconvert_exporter": "python",
   "pygments_lexer": "ipython3",
   "version": "3.6.5"
  },
  "toc": {
   "base_numbering": 1,
   "nav_menu": {},
   "number_sections": true,
   "sideBar": true,
   "skip_h1_title": false,
   "title_cell": "Table of Contents",
   "title_sidebar": "Contents",
   "toc_cell": false,
   "toc_position": {},
   "toc_section_display": true,
   "toc_window_display": false
  }
 },
 "nbformat": 4,
 "nbformat_minor": 2
}
