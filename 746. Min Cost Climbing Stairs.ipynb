{
 "cells": [
  {
   "cell_type": "markdown",
   "metadata": {},
   "source": [
    "```\n",
    "On a staircase, the i-th step has some non-negative cost cost[i] assigned (0 indexed).\n",
    "\n",
    "Once you pay the cost, you can either climb one or two steps. You need to find minimum cost to reach the top of the floor, and you can either start from the step with index 0, or the step with index 1.\n",
    "\n",
    "Example 1:\n",
    "Input: cost = [10, 15, 20]\n",
    "Output: 15\n",
    "Explanation: Cheapest is start on cost[1], pay that cost and go to the top.\n",
    "Example 2:\n",
    "Input: cost = [1, 100, 1, 1, 1, 100, 1, 1, 100, 1]\n",
    "Output: 6\n",
    "Explanation: Cheapest is start on cost[0], and only step on 1s, skipping cost[3].\n",
    "Note:\n",
    "cost will have a length in the range [2, 1000].\n",
    "Every cost[i] will be an integer in the range [0, 999].\n",
    "```"
   ]
  },
  {
   "cell_type": "code",
   "execution_count": 2,
   "metadata": {},
   "outputs": [],
   "source": [
    "class Solution:\n",
    "    def minCostClimbingStairs(self, cost):\n",
    "        \"\"\"\n",
    "        :type cost: List[int]\n",
    "        :rtype: int\n",
    "        \"\"\"\n",
    "        lens = len(cost)\n",
    "        cost.append(0)\n",
    "        cost.append(0)\n",
    "        ret1 = ret2 = 0\n",
    "        \n",
    "        def ClimbingStairs(_cost,start,end):\n",
    "            if start == end - 1:\n",
    "                return min(_cost[start],_cost[start+1]) if start ==0 else _cost[start]\n",
    "            if start == end: return _cost[start]\n",
    "            else:\n",
    "                a = (\n",
    "                    ClimbingStairs(cost,start+1,end),\n",
    "                    _cost[start]+ ClimbingStairs(cost,start+2,end),\n",
    "                    _cost[start+1]+ ClimbingStairs(cost,start+2,end))\n",
    "                return min(a) if start == 0 else  \\\n",
    "                    _cost[start] + \\\n",
    "                    min(ClimbingStairs(cost,start+1,end),ClimbingStairs(cost,start+2,end))\n",
    "            \n",
    "        return ClimbingStairs(cost,0,lens-1)\n",
    "                "
   ]
  },
  {
   "cell_type": "markdown",
   "metadata": {},
   "source": [
    "严重的超时了, 要想想其他策略,动态规划的算法:"
   ]
  },
  {
   "cell_type": "code",
   "execution_count": 5,
   "metadata": {},
   "outputs": [],
   "source": [
    "class Solution:\n",
    "    def minCostClimbingStairs(self, cost):\n",
    "        \"\"\"\n",
    "        :type cost: List[int]\n",
    "        :rtype: int\n",
    "        \"\"\"    \n",
    "        prevPrev, prev  = cost[0], cost[1]\n",
    "        for i in range(2, len(cost)):\n",
    "            cur = min(prevPrev, prev) + cost[i]\n",
    "            prevPrev, prev = prev, cur\n",
    "        return min(prevPrev, prev)\n"
   ]
  },
  {
   "cell_type": "markdown",
   "metadata": {},
   "source": [
    "子问题是: 到第n步的最小代价为dp[n]\n",
    "```   \n",
    "第1步: cost[0]\n",
    "第2步: cost[1] \n",
    "第n步: cost[n] + min(dp[n-1],dp[n-2])\n",
    "```\n",
    "    \n",
    "因为有2种可能的start, 因此需要同时更新2个  "
   ]
  },
  {
   "cell_type": "markdown",
   "metadata": {},
   "source": [
    "### 插播DP的理解:\n",
    "例子:\n",
    "```\n",
    "最长上升子序列LIS:\n",
    "\n",
    "输入n及一个长度为n的数列，求出此序列的最长上升子序列长度。\n",
    "上升子序列指的是对于任意的i<j都满足ai<aj的子序列。（1<=n<=1000,0<=ai<=1000000）\n",
    "```\n",
    "三个原则实施DP:\n",
    "```\n",
    "1. 可划分阶段\n",
    "2. 最优化原理,即子问题的局部最优将导致整个问题的全局最优，即问题具有最优子结构的性质,\n",
    "   也就是说一个问题的最优解只取决于其子问题的最优解\n",
    "3. 无后效性,即当前的状态只和过去有关,和未来无关,有点像线性时不变里的因果性\n",
    "```"
   ]
  },
  {
   "cell_type": "markdown",
   "metadata": {},
   "source": [
    "划分法1:\n",
    "    \n",
    "```\n",
    "最长上升子序列可能以任何位置作为结尾! 这就是`划分子问题`(方式并不唯一!), 即: dp[n]是以a[n]结尾的最长子序列的长度;\n",
    "\n",
    "dp[n]可以递推, 其值可能和dp[0],dp[1],...dp[n-1]有关, 这是`无后效性`\n",
    "\n",
    "所有的dp[n]求得时,全局问题自然得解,即max(dp)\n",
    "```\n",
    "\n",
    "dp的值要么为1,要么为其他,因此初始值全部为1即可\n"
   ]
  },
  {
   "cell_type": "markdown",
   "metadata": {},
   "source": [
    "```\n",
    "step: 0 , dp[0] = 1\n",
    "step: i, 对于j in range(1,i) a[j]是dp[j]代表的最长子序列的结尾, if a[i] > a[j],此时可以形成新的最长子序列 长度为a[j]+1,\n",
    "    找到所有dp[j]中,可能的最大的dp[j]+1, 用来更新dp[i]\n",
    "```"
   ]
  },
  {
   "cell_type": "code",
   "execution_count": 10,
   "metadata": {},
   "outputs": [],
   "source": [
    "class Solution:\n",
    "    def maxSubArrayLength(self,nums):\n",
    "        dp = []\n",
    "        [dp.append(1) for i in range(0,len(nums))]\n",
    "        print(dp)\n",
    "        for i in range(1,len(nums)):\n",
    "            for j in range(1,i):\n",
    "                dp[i] = max(dp[i],dp[j]+1) if nums[i] > nums[j] else dp[i]\n",
    "        print(dp)\n",
    "        return max(dp)\n"
   ]
  },
  {
   "cell_type": "code",
   "execution_count": 11,
   "metadata": {},
   "outputs": [
    {
     "name": "stdout",
     "output_type": "stream",
     "text": [
      "[1, 1, 1, 1, 1, 1, 1, 1, 1, 1, 1, 1, 1, 1]\n",
      "[1, 1, 2, 1, 3, 2, 3, 4, 5, 6, 7, 6, 6, 8]\n"
     ]
    },
    {
     "data": {
      "text/plain": [
       "8"
      ]
     },
     "execution_count": 11,
     "metadata": {},
     "output_type": "execute_result"
    }
   ],
   "source": [
    "Solution().maxSubArrayLength([4,2,3,1,100,2,3,4,5,6,7,6,6,8])"
   ]
  },
  {
   "cell_type": "markdown",
   "metadata": {},
   "source": [
    "划分法2:\n",
    "    再来一种划分子问题的思路: \n",
    "```\n",
    "dp[i]: 长度为i+1的上升子序列中末尾元素的最小值（不存在的话就是INF）。 i是递归的变量 最大长度i+1 == len(nums)\n",
    "\n",
    "不存在,则标记为初值INF\n",
    "\n",
    "100 99 91 92 93 94 95 1 2 3 4 5 3 \n",
    "100 99999999 99999999 99999999 99999999 99999999 99999999 99999999 99999999 99999999 99999999 99999999 99999999 \n",
    "99 99999999 99999999 99999999 99999999 99999999 99999999 99999999 99999999 99999999 99999999 99999999 99999999 \n",
    "91 99999999 99999999 99999999 99999999 99999999 99999999 99999999 99999999 99999999 99999999 99999999 99999999 \n",
    "91 92 99999999 99999999 99999999 99999999 99999999 99999999 99999999 99999999 99999999 99999999 99999999 \n",
    "91 92 93 99999999 99999999 99999999 99999999 99999999 99999999 99999999 99999999 99999999 99999999 \n",
    "91 92 93 94 99999999 99999999 99999999 99999999 99999999 99999999 99999999 99999999 99999999 \n",
    "91 92 93 94 95 99999999 99999999 99999999 99999999 99999999 99999999 99999999 99999999 \n",
    "1 92 93 94 95 99999999 99999999 99999999 99999999 99999999 99999999 99999999 99999999 \n",
    "1 2 93 94 95 99999999 99999999 99999999 99999999 99999999 99999999 99999999 99999999 \n",
    "1 2 3 94 95 99999999 99999999 99999999 99999999 99999999 99999999 99999999 99999999 \n",
    "1 2 3 4 95 99999999 99999999 99999999 99999999 99999999 99999999 99999999 99999999 \n",
    "1 2 3 4 5 99999999 99999999 99999999 99999999 99999999 99999999 99999999 99999999 \n",
    "1 2 3 4 5 99999999 99999999 99999999 99999999 99999999 99999999 99999999 99999999 \n",
    "5\n",
    "\n",
    "```"
   ]
  },
  {
   "cell_type": "code",
   "execution_count": 13,
   "metadata": {},
   "outputs": [],
   "source": [
    "class Solution:\n",
    "    def maxSubArrayLength(self,nums):\n",
    "        import sys\n",
    "        dp = []\n",
    "        INTMAX =999\n",
    "        [dp.append(INTMAX) for i in range(0,len(nums))]\n",
    "#         print(dp)\n",
    "        \n",
    "        dp[0] = nums[0]\n",
    "        for j in range(1,len(nums)):\n",
    "            for i in range(0,len(nums)):\n",
    "                if nums[j] < dp[i]: \n",
    "                    dp[i] = min(nums[j],dp[i])\n",
    "                    break\n",
    "            print(dp)\n",
    "            \n",
    "        return dp.index(999)\n"
   ]
  },
  {
   "cell_type": "code",
   "execution_count": 14,
   "metadata": {},
   "outputs": [
    {
     "name": "stdout",
     "output_type": "stream",
     "text": [
      "[99, 999, 999, 999, 999, 999, 999, 999, 999, 999, 999, 999]\n",
      "[91, 999, 999, 999, 999, 999, 999, 999, 999, 999, 999, 999]\n",
      "[91, 92, 999, 999, 999, 999, 999, 999, 999, 999, 999, 999]\n",
      "[91, 92, 93, 999, 999, 999, 999, 999, 999, 999, 999, 999]\n",
      "[91, 92, 93, 94, 999, 999, 999, 999, 999, 999, 999, 999]\n",
      "[1, 92, 93, 94, 999, 999, 999, 999, 999, 999, 999, 999]\n",
      "[1, 2, 93, 94, 999, 999, 999, 999, 999, 999, 999, 999]\n",
      "[1, 2, 3, 94, 999, 999, 999, 999, 999, 999, 999, 999]\n",
      "[1, 2, 3, 4, 999, 999, 999, 999, 999, 999, 999, 999]\n",
      "[1, 2, 3, 4, 5, 999, 999, 999, 999, 999, 999, 999]\n",
      "[1, 2, 3, 3, 5, 999, 999, 999, 999, 999, 999, 999]\n"
     ]
    },
    {
     "data": {
      "text/plain": [
       "5"
      ]
     },
     "execution_count": 14,
     "metadata": {},
     "output_type": "execute_result"
    }
   ],
   "source": [
    "Solution().maxSubArrayLength([100, 99 ,91, 92 ,93,94 , 1, 2 ,3 ,4, 5, 3 ])"
   ]
  },
  {
   "cell_type": "markdown",
   "metadata": {},
   "source": [
    "扩充:\n",
    "    \n",
    "求两个字符串的公共子序列的最大长度. 公共子串是相同的子串.\n",
    "```\n",
    "dp[i-1][j-1]为a为长度i,b为长度j时的公共子串的长度\n",
    "dp[i]d[j] = dp[i-1][j-1] m+ 1 if a[i-1]==b[j-1]\n",
    "否则 dp[i]d[j]  = max(dp[i]d[j-1] ,dp[i]d[j-1] )\n",
    "```"
   ]
  },
  {
   "cell_type": "code",
   "execution_count": 16,
   "metadata": {},
   "outputs": [],
   "source": [
    "class Solution:\n",
    "    def maxSubArrayLength(self,a,b):\n",
    "        lena = len(a)\n",
    "        lenb = len(b)\n",
    "        dp = []\n",
    "        for i in range(0,lena):\n",
    "            dp.append([])\n",
    "            for j in range(0,lenb):\n",
    "                dp[i].append(0)\n",
    "        print(dp)\n",
    "        dp[0][0] = 1 if a[0] == b[0] else 0\n",
    "        for i in range(0,lena-1):\n",
    "            for j in range(0,lenb-1):\n",
    "                dp[i+1][j+1] = dp[i][j] + 1 if a[i] == b[j] else max(dp[i+1][j],dp[i][j+1])\n",
    "        print(dp)\n",
    "        return  dp[lena-1][lenb-1]       "
   ]
  },
  {
   "cell_type": "code",
   "execution_count": 17,
   "metadata": {},
   "outputs": [
    {
     "name": "stdout",
     "output_type": "stream",
     "text": [
      "[[0, 0, 0], [0, 0, 0]]\n",
      "[[1, 0, 0], [0, 2, 2]]\n"
     ]
    },
    {
     "data": {
      "text/plain": [
       "2"
      ]
     },
     "execution_count": 17,
     "metadata": {},
     "output_type": "execute_result"
    }
   ],
   "source": [
    "Solution().maxSubArrayLength([2,3],[2,3,4])"
   ]
  },
  {
   "cell_type": "markdown",
   "metadata": {},
   "source": [
    "## 674. Longest Continuous Increasing Subsequence"
   ]
  },
  {
   "cell_type": "code",
   "execution_count": null,
   "metadata": {},
   "outputs": [],
   "source": []
  }
 ],
 "metadata": {
  "kernelspec": {
   "display_name": "Python 3",
   "language": "python",
   "name": "python3"
  },
  "language_info": {
   "codemirror_mode": {
    "name": "ipython",
    "version": 3
   },
   "file_extension": ".py",
   "mimetype": "text/x-python",
   "name": "python",
   "nbconvert_exporter": "python",
   "pygments_lexer": "ipython3",
   "version": "3.6.5"
  }
 },
 "nbformat": 4,
 "nbformat_minor": 2
}
