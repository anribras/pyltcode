{
 "cells": [
  {
   "cell_type": "markdown",
   "metadata": {},
   "source": [
    "```\n",
    "Input: 1->2->3->4->5->NULL, k = 2\n",
    "Output: 4->5->1->2->3->NULL\n",
    "Explanation:\n",
    "rotate 1 steps to the right: 5->1->2->3->4->NULL\n",
    "rotate 2 steps to the right: 4->5->1->2->3->NULL\n",
    "    \n",
    "\n",
    "Input: 0->1->2->NULL, k = 4\n",
    "Output: 2->0->1->NULL\n",
    "Explanation:\n",
    "rotate 1 steps to the right: 2->0->1->NULL\n",
    "rotate 2 steps to the right: 1->2->0->NULL\n",
    "rotate 3 steps to the right: 0->1->2->NULL\n",
    "rotate 4 steps to the right: 2->0->1->NULL\n",
    "```"
   ]
  },
  {
   "cell_type": "markdown",
   "metadata": {},
   "source": [
    "思路 1  每次迭代时, 把tail remove出来, 保存, 然后 insert_before head"
   ]
  },
  {
   "cell_type": "code",
   "execution_count": 6,
   "metadata": {},
   "outputs": [],
   "source": [
    "def dumpList(p):\n",
    "    while(p.next != None):\n",
    "        print('%d '%(p.val))\n",
    "        p = p.next\n",
    "    print('%d '%(p.val))\n",
    "    \n",
    "def getListLen(head):\n",
    "    l = 0\n",
    "    if head == None: return 0\n",
    "    p = head\n",
    "    while(p.next != None):\n",
    "        p = p.next\n",
    "        l +=1\n",
    "    return l+1\n",
    "\n",
    "class ListNode:\n",
    "    def __init__(self, x):\n",
    "        self.val = x\n",
    "        self.next = None"
   ]
  },
  {
   "cell_type": "code",
   "execution_count": 7,
   "metadata": {},
   "outputs": [],
   "source": [
    "# Definition for singly-linked list.\n",
    "class ListNode:\n",
    "    def __init__(self, x):\n",
    "        self.val = x\n",
    "        self.next = None\n",
    "        \n",
    "def getListLen(head):\n",
    "    l = 0\n",
    "    if head == None: return 0\n",
    "    p = head\n",
    "    while(p.next != None):\n",
    "        p = p.next\n",
    "        l +=1\n",
    "    return l+1\n",
    "\n",
    "class Solution:\n",
    "    def rotateRight(self, head, k):\n",
    "        \"\"\"\n",
    "        :type head: ListNode\n",
    "        :type k: int\n",
    "        :rtype: ListNode\n",
    "        \"\"\"\n",
    "        l = getListLen(head)\n",
    "        p = head \n",
    "        if p == None: return None\n",
    "        if p.next ==None: return head\n",
    "        prev = None\n",
    "        for it in range(k % l):\n",
    "            while( p.next != None):\n",
    "                prev =p\n",
    "                p = p.next\n",
    "            prev.next = p.next\n",
    "            \n",
    "            # remove item as new head\n",
    "            p.next = head\n",
    "            head = p\n",
    "        return head"
   ]
  },
  {
   "cell_type": "code",
   "execution_count": 8,
   "metadata": {},
   "outputs": [
    {
     "name": "stdout",
     "output_type": "stream",
     "text": [
      "1 \n",
      "2 \n",
      "3 \n",
      "4 \n",
      "5 \n",
      "6 \n",
      "-----\n",
      "5 \n",
      "6 \n",
      "1 \n",
      "2 \n",
      "3 \n",
      "4 \n"
     ]
    }
   ],
   "source": [
    "head  = p  = ListNode(1)\n",
    "for i in range(2,5+2):\n",
    "    p.next =  ListNode(i)\n",
    "    p = p.next\n",
    "dumpList(head)\n",
    "\n",
    "print('-----')\n",
    "    \n",
    "head = Solution().rotateRight(head,2)\n",
    "dumpList(head)"
   ]
  },
  {
   "cell_type": "markdown",
   "metadata": {},
   "source": [
    "思路没毛病!!但是 超时了... 没必要每个k都这么算, k % l的结果是相同的..\n",
    "\n",
    "提交后还是很慢, 再自己看 可以整体搬移的 ! 没必要1个1个的item挪"
   ]
  },
  {
   "cell_type": "code",
   "execution_count": null,
   "metadata": {},
   "outputs": [],
   "source": []
  }
 ],
 "metadata": {
  "kernelspec": {
   "display_name": "Python 3",
   "language": "python",
   "name": "python3"
  },
  "language_info": {
   "codemirror_mode": {
    "name": "ipython",
    "version": 3
   },
   "file_extension": ".py",
   "mimetype": "text/x-python",
   "name": "python",
   "nbconvert_exporter": "python",
   "pygments_lexer": "ipython3",
   "version": "3.6.5"
  }
 },
 "nbformat": 4,
 "nbformat_minor": 2
}
