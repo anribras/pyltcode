{
 "cells": [
  {
   "cell_type": "markdown",
   "metadata": {
    "heading_collapsed": true
   },
   "source": [
    "## dp实施原则"
   ]
  },
  {
   "cell_type": "markdown",
   "metadata": {
    "hidden": true
   },
   "source": [
    "三个原则实施DP:\n",
    "```\n",
    "1. 可划分阶段,(理解就是可划分子问题,可递推)\n",
    "2. 最优化原理,即子问题的局部最优将导致整个问题的全局最优，即问题具有最优子结构的性质,\n",
    "   也就是说一个问题的最优解只取决于其子问题的最优解\n",
    "3. 无后效性,即当前的状态只和过去有关,和未来无关,有点像线性时不变里的因果性\n",
    "```"
   ]
  },
  {
   "cell_type": "markdown",
   "metadata": {},
   "source": [
    "## 模型"
   ]
  },
  {
   "cell_type": "markdown",
   "metadata": {},
   "source": [
    "上升,下降,或者其他场景都应该借鉴,举一反三"
   ]
  },
  {
   "cell_type": "markdown",
   "metadata": {},
   "source": [
    "### 最长上升子序列的长度(不一定连续)"
   ]
  },
  {
   "cell_type": "markdown",
   "metadata": {},
   "source": [
    "\n",
    "```\n",
    "最长上升子序列可能以任何位置作为结尾! 这就是`划分子问题`(方式并不唯一!), 即: dp[n]是以a[n]结尾的最长子序列的长度;\n",
    "\n",
    "dp[n]可以递推, 其值可能和dp[0],dp[1],...dp[n-1]有关, 这是`无后效性`\n",
    "\n",
    "所有的dp[n]求得时,全局问题自然得解,即max(dp)\n",
    "```"
   ]
  },
  {
   "cell_type": "markdown",
   "metadata": {},
   "source": [
    "最重要的就是找出dp[i]的定义,和递推关系\n",
    "\n",
    "dp[i]表示以a[i]结尾的上升子序列的长度, max(dp)即求解问题\n",
    "\n",
    "```\n",
    "step: 0 , dp[0] = 1\n",
    "step: i, 对于j in range(1,i) a[j]是dp[j]代表的最长子序列的结尾, if a[i] > a[j],此时可以形成新的最长子序列 长度为a[j]+1,\n",
    "    找到所有dp[j]中,可能的最大的dp[j]+1, 用来更新dp[i]\n",
    "```"
   ]
  },
  {
   "cell_type": "code",
   "execution_count": 1,
   "metadata": {},
   "outputs": [],
   "source": [
    "class Solution:\n",
    "    def maxSubArrayLength(self,nums):\n",
    "        dp = []\n",
    "        [dp.append(1) for i in range(0,len(nums))]\n",
    "        print(dp)\n",
    "        for i in range(1,len(nums)):\n",
    "            for j in range(1,i):\n",
    "                dp[i] = max(dp[i],dp[j]+1) if nums[i] > nums[j] else dp[i]\n",
    "        print(dp)\n",
    "        return max(dp)"
   ]
  },
  {
   "cell_type": "markdown",
   "metadata": {},
   "source": [
    "### 子序列的最大和"
   ]
  },
  {
   "cell_type": "markdown",
   "metadata": {},
   "source": [
    "\n",
    "这个要更简单点,因为不考虑连续性:,\n",
    "    dp[i] 表示以 a[i]结尾的子序列的和\n",
    "```\n",
    "step 0: dp[0] = 1\n",
    "step i: dp[i] = dp[i-1] + num[i] if  dp[i-1] > 0 else num[i]\n",
    "```\n",
    "为何要dp[i-1] > 0 ? 如果dp[i]小于0,说明前面序列累加起来再加上现在的,比现在的还小,最长子序列不成立了."
   ]
  },
  {
   "cell_type": "code",
   "execution_count": null,
   "metadata": {},
   "outputs": [],
   "source": [
    "class Solution:\n",
    "    def maxSubArray(self, nums):\n",
    "        \"\"\"\n",
    "        :type nums: List[int]\n",
    "        :rtype: int\n",
    "        \"\"\"\n",
    "        dp = nums.copy()\n",
    "        for i in range(1, len(nums)):\n",
    "            if dp[i-1] > 0:\n",
    "                dp[i] = dp[i-1] + nums[i]\n",
    "        return max(dp)"
   ]
  },
  {
   "cell_type": "markdown",
   "metadata": {},
   "source": [
    "### 最长连续上升子序列的最大和"
   ]
  },
  {
   "cell_type": "markdown",
   "metadata": {},
   "source": [
    "和上面的比,仅仅增加是否连续的判断"
   ]
  },
  {
   "cell_type": "markdown",
   "metadata": {},
   "source": [
    "```\n",
    "dp[i] = dp[i-1] + nums[i] if nums[i] < nums[i-1] and dp[i-1] > 0 else nums[i]\n",
    "```"
   ]
  },
  {
   "cell_type": "code",
   "execution_count": 3,
   "metadata": {},
   "outputs": [],
   "source": [
    "class Solution:\n",
    "    def maxSubArray(self, nums):\n",
    "        \"\"\"\n",
    "        :type nums: List[int]\n",
    "        :rtype: int\n",
    "        \"\"\"\n",
    "        dp = []\n",
    "        l = len(nums)\n",
    "        dp = nums.copy()\n",
    "        dp[0] = nums[0]\n",
    "        for i in range(1,l):\n",
    "            dp[i] = dp[i-1] + nums[i] if nums[i] < nums[i-1] and dp[i-1] > 0 else nums[i]\n",
    "        return max(dp)"
   ]
  },
  {
   "cell_type": "markdown",
   "metadata": {
    "heading_collapsed": true
   },
   "source": [
    "### 应用"
   ]
  },
  {
   "cell_type": "markdown",
   "metadata": {},
   "source": [
    "### 合唱团问题"
   ]
  },
  {
   "cell_type": "markdown",
   "metadata": {},
   "source": [
    "N个成员的合唱团,身高为a[i], 希望拿掉(N-K)个成员,剩余成员构成'合唱团',即\n",
    "```\n",
    "a1 < a2 < .. ai\n",
    "ai > ai+1 >...aK\n",
    "```\n",
    "求K的最大值?"
   ]
  },
  {
   "cell_type": "markdown",
   "metadata": {},
   "source": [
    "分析: 是2个子问题(上面2.1)的结合:\n",
    "```\n",
    "dp[i] 表示以a[i]为结尾的递增子序列(不用连续)的队列长度\n",
    "dq[i] 表示以a[i]为开头的递减子序列(不用连续)的队列长度\n",
    "\n",
    "求解问题为max(d[i]+dq[i]-1) 减1是因为i重复算了1次\n",
    "\n",
    "```"
   ]
  },
  {
   "cell_type": "markdown",
   "metadata": {},
   "source": [
    "## 参考"
   ]
  },
  {
   "cell_type": "markdown",
   "metadata": {},
   "source": [
    "1. https://blog.csdn.net/cr496352127/article/details/77934132?locationNum=10&fps=1"
   ]
  },
  {
   "cell_type": "code",
   "execution_count": null,
   "metadata": {},
   "outputs": [],
   "source": []
  }
 ],
 "metadata": {
  "kernelspec": {
   "display_name": "Python 3",
   "language": "python",
   "name": "python3"
  },
  "language_info": {
   "codemirror_mode": {
    "name": "ipython",
    "version": 3
   },
   "file_extension": ".py",
   "mimetype": "text/x-python",
   "name": "python",
   "nbconvert_exporter": "python",
   "pygments_lexer": "ipython3",
   "version": "3.6.5"
  },
  "toc": {
   "base_numbering": 1,
   "nav_menu": {},
   "number_sections": true,
   "sideBar": true,
   "skip_h1_title": false,
   "title_cell": "Table of Contents",
   "title_sidebar": "Contents",
   "toc_cell": false,
   "toc_position": {},
   "toc_section_display": true,
   "toc_window_display": false
  }
 },
 "nbformat": 4,
 "nbformat_minor": 2
}
